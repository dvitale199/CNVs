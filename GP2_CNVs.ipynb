{
 "cells": [
  {
   "cell_type": "markdown",
   "id": "8948292e-a3f5-44cd-b316-653de013ad61",
   "metadata": {},
   "source": [
    "# GP2 CNVs Pipeline\n",
    "\n",
    "steps:\n",
    "1. call snp metrics from idats- write to parquets partitioned on Sample_ID\n",
    "2. run qc on snps from corresponding genotypes\n",
    "3. call cnvs from snp metrics using snps that passed qc in step 2\n",
    "4. "
   ]
  },
  {
   "cell_type": "code",
   "execution_count": 1,
   "id": "163da59f-cf9c-4665-8221-8524f6a364e8",
   "metadata": {},
   "outputs": [
    {
     "name": "stdout",
     "output_type": "stream",
     "text": [
      "Plink is found\n",
      "Plink2 is found\n"
     ]
    }
   ],
   "source": [
    "import pandas as pd\n",
    "import os\n",
    "import shutil\n",
    "import numpy as np\n",
    "import glob\n",
    "from sklearn.preprocessing import MinMaxScaler\n",
    "import statsmodels.api as sm\n",
    "\n",
    "from QC.utils import shell_do"
   ]
  },
  {
   "cell_type": "code",
   "execution_count": 4,
   "id": "ac49c984-53cf-4aca-9b10-2c20e1321d8d",
   "metadata": {},
   "outputs": [],
   "source": [
    "############ SET THIS EVERY RELEASE ############\n",
    "release = '5'\n",
    "\n",
    "key_file = f'/data/GP2/clinical/master_key/GP2_master_key_FINAL_release5_n26728.txt'\n",
    "key = pd.read_csv(f'{key_file}')\n",
    "key.loc[:,'IID'] = key.loc[:,'SentrixBarcode_A'].astype(str) + '_' + key.loc[:,'SentrixPosition_A'].astype(str)\n",
    "key.loc[:,'FID'] = \"0\"\n",
    "\n",
    "\n",
    "idat_path = '/data/GP2/raw_genotypes/idats/'\n",
    "swarm_scripts_dir = f'/data/GP2/users/vitaled2/swarm'\n",
    "\n",
    "ilmn_files_path = '/data/GP2/utils/ilmn_files'\n",
    "# A1 is hg19, A2 is hg38. csv needed for indel calls\n",
    "bpm_csv = f'{ilmn_files_path}/NeuroBooster_20042459_A2.csv' \n",
    "bpm = f'{ilmn_files_path}/NeuroBooster_20042459_A2.bpm'\n",
    "egt = f'{ilmn_files_path}/recluster_09272022.egt'\n",
    "iaap = f'{ilmn_files_path}/iaap-cli/iaap-cli'\n",
    "\n",
    "ref_fasta = '/data/vitaled2/ref/GRCh38/GCA_000001405.15_GRCh38_no_alt_analysis_set.fna'\n",
    "\n",
    "chroms = [str(i) for i in range(1,23)] + ['X','Y','M']\n",
    "\n",
    "samples_list = key.loc[:,'filename'].unique()\n",
    "barcodes_list = list(set([x.split('_')[0] for x in samples_list]))\n",
    "\n",
    "\n",
    "raw_geno_path = '/data/GP2/raw_genotypes'\n",
    "snp_metrics_path = f'{raw_geno_path}/snp_metrics'\n",
    "idat_path = f'{raw_geno_path}/idats'\n",
    "plink_file_path = f'{raw_geno_path}/ped_bed'\n",
    "\n",
    "\n",
    "cnv_path = f'/data/GP2/raw_genotypes/cnvs/release{release}'\n",
    "covar_path = f'{cnv_path}/key/release{release}_covar.csv'\n",
    "# using just autosomes for CNV analysis due to call quality\n",
    "chroms = [str(i) for i in range(1,23)]\n",
    "\n",
    "ancestry_labels = [x.split('/')[-1].replace('.bed','').split('_')[-1] for x in glob.glob(f'/data/GP2/quality_control/release{release}/genotype_qc/GP2_round5_APRIL_2023_*.bed') if '_maf_hwe' not in x]\n",
    "\n",
    "key[['FID','GP2sampleID']].to_csv(f'{cnv_path}/key/release{release}.samples', sep='\\t', header=False, index=False)\n",
    "key[['GP2sampleID','IID']].to_csv(f'{cnv_path}/key/release{release}_sample_id_key.csv')\n",
    "release_covars = key.loc[:,['FID', 'GP2sampleID','sex_for_qc', 'age', 'age_of_onset']]\n",
    "release_covars.to_csv(covar_path)\n",
    "\n",
    "cnv_types = ['PERCENT_BAF_INSERTION','PERCENT_L2R_DELETION','PERCENT_L2R_DUPLICATION']"
   ]
  },
  {
   "cell_type": "code",
   "execution_count": 5,
   "id": "d146821f-30ff-496e-a9ad-bd2e1b90ac08",
   "metadata": {},
   "outputs": [],
   "source": [
    "# get snp metrics\n",
    "metrics_exist_list = []\n",
    "bcftools_plugins_path = 'bin'\n",
    "with open(f'{swarm_scripts_dir}/snp_metrics.swarm', 'w') as f:\n",
    "    for code in barcodes_list:\n",
    "        idat_path_ = f'{idat_path}/{code}'\n",
    "        metrics_out = f'{snp_metrics_path}'\n",
    "        # metrics_code_path = f'{snp_metrics_path}/{code}'\n",
    "        cmd = f'\\\n",
    "python run_snp_metrics_pipeline.py \\\n",
    "--idat_path {idat_path_} \\\n",
    "--bpm {bpm} \\\n",
    "--bpm_csv {bpm_csv} \\\n",
    "--egt {egt} \\\n",
    "--ref_fasta {ref_fasta} \\\n",
    "--out_path {metrics_out} \\\n",
    "--iaap {iaap} \\\n",
    "--bcftools_plugins_path {bcftools_plugins_path}'\n",
    "        f.write(f'{cmd}\\n')\n",
    "f.close()\n"
   ]
  },
  {
   "cell_type": "code",
   "execution_count": 7,
   "id": "117e910d-509a-4ff5-af24-e5f3d07da1fe",
   "metadata": {},
   "outputs": [
    {
     "name": "stdout",
     "output_type": "stream",
     "text": [
      "64432484\n"
     ]
    }
   ],
   "source": [
    "!swarm -f {swarm_scripts_dir}/snp_metrics.swarm -g 64 -t 16 --time=04:00:00 --logdir {swarm_scripts_dir}/logs --gres=lscratch:20 --partition=norm"
   ]
  },
  {
   "cell_type": "code",
   "execution_count": 5,
   "id": "1f2ab215-4774-429d-af1f-a56ee02cad17",
   "metadata": {},
   "outputs": [
    {
     "name": "stdout",
     "output_type": "stream",
     "text": [
      "Sample_ID=206046190071_R01C01  Sample_ID=206046190071_R02C01\n"
     ]
    }
   ],
   "source": [
    "!ls /data/GP2/raw_genotypes/snp_metrics/206046190071/snp_metrics_206046190071.parquet"
   ]
  },
  {
   "cell_type": "code",
   "execution_count": 6,
   "id": "a63c4a2e-b1c6-4cd0-a72d-cd99f60f1106",
   "metadata": {},
   "outputs": [
    {
     "name": "stdout",
     "output_type": "stream",
     "text": [
      "metrics exist: 26578\n",
      "missing metrics: 150\n"
     ]
    }
   ],
   "source": [
    "#check if output for chr2 exists for all samples \n",
    "exist_dir = []\n",
    "missing_dir = []\n",
    "\n",
    "for sample in samples_list:\n",
    "# for sample in ['206412060174_R07C01']:\n",
    "    code = sample.split('_')[0]\n",
    "    metrics_file = f'/data/GP2/raw_genotypes/snp_metrics/{code}/snp_metrics_{code}.parquet/Sample_ID={sample}'\n",
    "    \n",
    "    if os.path.isdir(metrics_file):\n",
    "        exist_dir.append(sample)\n",
    "    else:\n",
    "        missing_dir.append(sample)\n",
    "        \n",
    "print(f'metrics exist: {len(exist_dir)}')\n",
    "print(f'missing metrics: {len(missing_dir)}')"
   ]
  },
  {
   "cell_type": "code",
   "execution_count": 7,
   "id": "bcd9284a-4a05-46d9-892e-6bda06354195",
   "metadata": {},
   "outputs": [],
   "source": [
    "# now check if we have idats for missing snp metrics\n",
    "missing_idats = []\n",
    "exists_idats = []\n",
    "for sample in missing_metrics:\n",
    "    code = sample.split('_')[0]\n",
    "    grn = f'{idat_path}/{code}/{sample}_Grn.idat'\n",
    "    red = f'{idat_path}/{code}/{sample}_Red.idat'\n",
    "    if os.path.isfile(grn) & os.path.isfile(red):\n",
    "        exists_idats.append(sample)\n",
    "    else:\n",
    "        missing_idats.append(sample)"
   ]
  },
  {
   "cell_type": "code",
   "execution_count": 8,
   "id": "cc859aa9-0359-427f-ae76-0f0fb2a4596e",
   "metadata": {},
   "outputs": [
    {
     "name": "stdout",
     "output_type": "stream",
     "text": [
      "93\n",
      "57\n"
     ]
    }
   ],
   "source": [
    "print(len(missing_idats))\n",
    "print(len(exists_idats))"
   ]
  },
  {
   "cell_type": "code",
   "execution_count": 13,
   "id": "eb84cf01-270c-429f-8758-d700fe19740a",
   "metadata": {},
   "outputs": [
    {
     "name": "stdout",
     "output_type": "stream",
     "text": [
      "python run_cnv_qc_pipeline.py --geno_path /data/GP2/quality_control/release5/genotype_qc/GP2_round5_APRIL_2023_FIN --out_path /data/GP2/raw_genotypes/cnvs/release5/genotypes/GP2_round5_APRIL_2023_FIN_clean --covar_path /data/GP2/raw_genotypes/cnvs/release5/key/release5_covar.csv --maf 0.01 --geno 0.2 --hwe 5e-6 --indep_pairwise 1000 10 0.01 --samples_path /data/GP2/raw_genotypes/cnvs/release5/key/release5.samples\n",
      "python run_cnv_qc_pipeline.py --geno_path /data/GP2/quality_control/release5/genotype_qc/GP2_round5_APRIL_2023_EUR --out_path /data/GP2/raw_genotypes/cnvs/release5/genotypes/GP2_round5_APRIL_2023_EUR_clean --covar_path /data/GP2/raw_genotypes/cnvs/release5/key/release5_covar.csv --maf 0.01 --geno 0.2 --hwe 5e-6 --indep_pairwise 1000 10 0.01 --samples_path /data/GP2/raw_genotypes/cnvs/release5/key/release5.samples\n",
      "python run_cnv_qc_pipeline.py --geno_path /data/GP2/quality_control/release5/genotype_qc/GP2_round5_APRIL_2023_EAS --out_path /data/GP2/raw_genotypes/cnvs/release5/genotypes/GP2_round5_APRIL_2023_EAS_clean --covar_path /data/GP2/raw_genotypes/cnvs/release5/key/release5_covar.csv --maf 0.01 --geno 0.2 --hwe 5e-6 --indep_pairwise 1000 10 0.01 --samples_path /data/GP2/raw_genotypes/cnvs/release5/key/release5.samples\n",
      "python run_cnv_qc_pipeline.py --geno_path /data/GP2/quality_control/release5/genotype_qc/GP2_round5_APRIL_2023_AAC --out_path /data/GP2/raw_genotypes/cnvs/release5/genotypes/GP2_round5_APRIL_2023_AAC_clean --covar_path /data/GP2/raw_genotypes/cnvs/release5/key/release5_covar.csv --maf 0.01 --geno 0.2 --hwe 5e-6 --indep_pairwise 1000 10 0.01 --samples_path /data/GP2/raw_genotypes/cnvs/release5/key/release5.samples\n",
      "python run_cnv_qc_pipeline.py --geno_path /data/GP2/quality_control/release5/genotype_qc/GP2_round5_APRIL_2023_AJ --out_path /data/GP2/raw_genotypes/cnvs/release5/genotypes/GP2_round5_APRIL_2023_AJ_clean --covar_path /data/GP2/raw_genotypes/cnvs/release5/key/release5_covar.csv --maf 0.01 --geno 0.2 --hwe 5e-6 --indep_pairwise 1000 10 0.01 --samples_path /data/GP2/raw_genotypes/cnvs/release5/key/release5.samples\n",
      "python run_cnv_qc_pipeline.py --geno_path /data/GP2/quality_control/release5/genotype_qc/GP2_round5_APRIL_2023_MDE --out_path /data/GP2/raw_genotypes/cnvs/release5/genotypes/GP2_round5_APRIL_2023_MDE_clean --covar_path /data/GP2/raw_genotypes/cnvs/release5/key/release5_covar.csv --maf 0.01 --geno 0.2 --hwe 5e-6 --indep_pairwise 1000 10 0.01 --samples_path /data/GP2/raw_genotypes/cnvs/release5/key/release5.samples\n",
      "python run_cnv_qc_pipeline.py --geno_path /data/GP2/quality_control/release5/genotype_qc/GP2_round5_APRIL_2023_SAS --out_path /data/GP2/raw_genotypes/cnvs/release5/genotypes/GP2_round5_APRIL_2023_SAS_clean --covar_path /data/GP2/raw_genotypes/cnvs/release5/key/release5_covar.csv --maf 0.01 --geno 0.2 --hwe 5e-6 --indep_pairwise 1000 10 0.01 --samples_path /data/GP2/raw_genotypes/cnvs/release5/key/release5.samples\n",
      "python run_cnv_qc_pipeline.py --geno_path /data/GP2/quality_control/release5/genotype_qc/GP2_round5_APRIL_2023_CAS --out_path /data/GP2/raw_genotypes/cnvs/release5/genotypes/GP2_round5_APRIL_2023_CAS_clean --covar_path /data/GP2/raw_genotypes/cnvs/release5/key/release5_covar.csv --maf 0.01 --geno 0.2 --hwe 5e-6 --indep_pairwise 1000 10 0.01 --samples_path /data/GP2/raw_genotypes/cnvs/release5/key/release5.samples\n",
      "python run_cnv_qc_pipeline.py --geno_path /data/GP2/quality_control/release5/genotype_qc/GP2_round5_APRIL_2023_AMR --out_path /data/GP2/raw_genotypes/cnvs/release5/genotypes/GP2_round5_APRIL_2023_AMR_clean --covar_path /data/GP2/raw_genotypes/cnvs/release5/key/release5_covar.csv --maf 0.01 --geno 0.2 --hwe 5e-6 --indep_pairwise 1000 10 0.01 --samples_path /data/GP2/raw_genotypes/cnvs/release5/key/release5.samples\n",
      "python run_cnv_qc_pipeline.py --geno_path /data/GP2/quality_control/release5/genotype_qc/GP2_round5_APRIL_2023_AFR --out_path /data/GP2/raw_genotypes/cnvs/release5/genotypes/GP2_round5_APRIL_2023_AFR_clean --covar_path /data/GP2/raw_genotypes/cnvs/release5/key/release5_covar.csv --maf 0.01 --geno 0.2 --hwe 5e-6 --indep_pairwise 1000 10 0.01 --samples_path /data/GP2/raw_genotypes/cnvs/release5/key/release5.samples\n"
     ]
    }
   ],
   "source": [
    "with open(f'{swarm_scripts_dir}/cnv_geno_qc.swarm', 'w') as f:\n",
    "\n",
    "    for label in ancestry_labels:\n",
    "        geno_name = f'GP2_round5_APRIL_2023_{label}'\n",
    "        out_path = f'{cnv_path}/genotypes/{geno_name}_clean'\n",
    "        geno_path = f'/data/GP2/quality_control/release{release}/genotype_qc/{geno_name}'\n",
    "    \n",
    "        cmd = f'\\\n",
    "python run_cnv_qc_pipeline.py \\\n",
    "--geno_path {geno_path} \\\n",
    "--out_path {out_path} \\\n",
    "--covar_path {covar_path} \\\n",
    "--maf 0.01 \\\n",
    "--geno 0.2 \\\n",
    "--hwe 5e-6 \\\n",
    "--indep_pairwise 1000 10 0.01 \\\n",
    "--samples_path {cnv_path}/key/release{release}.samples'\n",
    "        \n",
    "        f.write(f'{cmd}\\n')\n",
    "f.close()\n",
    "!cat {swarm_scripts_dir}/cnv_geno_qc.swarm\n"
   ]
  },
  {
   "cell_type": "code",
   "execution_count": 28,
   "id": "b3362f7d-e67e-4b3d-b692-06f7d5a4c421",
   "metadata": {},
   "outputs": [
    {
     "name": "stdout",
     "output_type": "stream",
     "text": [
      "63958236\n"
     ]
    }
   ],
   "source": [
    "!swarm -f {swarm_scripts_dir}/cnv_geno_qc.swarm -g 16 -t 16 --time=02:00:00 --logdir {swarm_scripts_dir}/logs --module python/3.8,plink/1.9 --gres=lscratch:20 --partition=norm\n"
   ]
  },
  {
   "cell_type": "code",
   "execution_count": 9,
   "id": "aeb8e8f0-3185-4f74-83a1-c2d0f153d205",
   "metadata": {},
   "outputs": [
    {
     "name": "stdout",
     "output_type": "stream",
     "text": [
      "/data/GP2/raw_genotypes/cnvs/release5/genotypes/GP2_round5_APRIL_2023_FIN_clean.bed\n",
      "fam: ['16']\n",
      "cov: ['16']\n",
      "eigenvec: ['16']\n",
      "bim: ['1152']\n",
      "snps: ['1152']\n",
      "\n",
      "\n",
      "/data/GP2/raw_genotypes/cnvs/release5/genotypes/GP2_round5_APRIL_2023_EUR_clean.bed\n",
      "fam: ['15356']\n",
      "cov: ['15356']\n",
      "eigenvec: ['15356']\n",
      "bim: ['14573']\n",
      "snps: ['14573']\n",
      "\n",
      "\n",
      "/data/GP2/raw_genotypes/cnvs/release5/genotypes/GP2_round5_APRIL_2023_EAS_clean.bed\n",
      "fam: ['2913']\n",
      "cov: ['2913']\n",
      "eigenvec: ['2913']\n",
      "bim: ['17255']\n",
      "snps: ['17255']\n",
      "\n",
      "\n",
      "/data/GP2/raw_genotypes/cnvs/release5/genotypes/GP2_round5_APRIL_2023_AAC_clean.bed\n",
      "fam: ['1331']\n",
      "cov: ['1331']\n",
      "eigenvec: ['1331']\n",
      "bim: ['13110']\n",
      "snps: ['13110']\n",
      "\n",
      "\n",
      "/data/GP2/raw_genotypes/cnvs/release5/genotypes/GP2_round5_APRIL_2023_AJ_clean.bed\n",
      "fam: ['1546']\n",
      "cov: ['1546']\n",
      "eigenvec: ['1546']\n",
      "bim: ['4747']\n",
      "snps: ['4747']\n",
      "\n",
      "\n",
      "/data/GP2/raw_genotypes/cnvs/release5/genotypes/GP2_round5_APRIL_2023_MDE_clean.bed\n",
      "fam: ['149']\n",
      "cov: ['149']\n",
      "eigenvec: ['149']\n",
      "bim: ['2672']\n",
      "snps: ['2672']\n",
      "\n",
      "\n",
      "/data/GP2/raw_genotypes/cnvs/release5/genotypes/GP2_round5_APRIL_2023_SAS_clean.bed\n",
      "fam: ['220']\n",
      "cov: ['220']\n",
      "eigenvec: ['220']\n",
      "bim: ['3273']\n",
      "snps: ['3273']\n",
      "\n",
      "\n",
      "/data/GP2/raw_genotypes/cnvs/release5/genotypes/GP2_round5_APRIL_2023_CAS_clean.bed\n",
      "fam: ['478']\n",
      "cov: ['478']\n",
      "eigenvec: ['478']\n",
      "bim: ['5367']\n",
      "snps: ['5367']\n",
      "\n",
      "\n",
      "/data/GP2/raw_genotypes/cnvs/release5/genotypes/GP2_round5_APRIL_2023_AMR_clean.bed\n",
      "fam: ['573']\n",
      "cov: ['573']\n",
      "eigenvec: ['573']\n",
      "bim: ['5020']\n",
      "snps: ['5020']\n",
      "\n",
      "\n",
      "/data/GP2/raw_genotypes/cnvs/release5/genotypes/GP2_round5_APRIL_2023_AFR_clean.bed\n",
      "fam: ['2353']\n",
      "cov: ['2353']\n",
      "eigenvec: ['2353']\n",
      "bim: ['18843']\n",
      "snps: ['18843']\n",
      "\n",
      "\n"
     ]
    }
   ],
   "source": [
    "# check outputs from qc pipeline\n",
    "\n",
    "for label in ancestry_labels:\n",
    "    extensions = ['fam','cov','eigenvec','bim', 'snps']\n",
    "    out_geno = f'/data/GP2/raw_genotypes/cnvs/release5/genotypes/GP2_round5_APRIL_2023_{label}_clean.bed'\n",
    "    print(f'{out_geno}')\n",
    "    for ext in extensions:\n",
    "        out_geno_path = f'/data/GP2/raw_genotypes/cnvs/release5/genotypes/GP2_round5_APRIL_2023_{label}_clean.{ext}'\n",
    "        if os.path.isfile(out_geno):\n",
    "            count = !cat {out_geno_path} | wc -l\n",
    "            print(f'{ext}: {count}') \n",
    "            \n",
    "        else:\n",
    "            print(f'{out_geno} does not exist!!!')\n",
    "    print()\n",
    "    print()\n"
   ]
  },
  {
   "cell_type": "code",
   "execution_count": 19,
   "id": "c0a75eb9-9d5f-4cfd-b81a-f97ac19841f8",
   "metadata": {},
   "outputs": [
    {
     "name": "stdout",
     "output_type": "stream",
     "text": [
      "FIN | total_n: 13 | n_cases: 10 | n_controls: 3 | n_snps: 1152\n",
      "\n",
      "EUR | total_n: 14196 | n_cases: 9230 | n_controls: 4966 | n_snps: 14573\n",
      "\n",
      "EAS | total_n: 2900 | n_cases: 878 | n_controls: 2022 | n_snps: 17255\n",
      "\n",
      "AAC | total_n: 1320 | n_cases: 289 | n_controls: 1031 | n_snps: 13110\n",
      "\n",
      "AJ | total_n: 1126 | n_cases: 740 | n_controls: 386 | n_snps: 4747\n",
      "\n",
      "MDE | total_n: 124 | n_cases: 106 | n_controls: 18 | n_snps: 2672\n",
      "\n",
      "SAS | total_n: 215 | n_cases: 80 | n_controls: 135 | n_snps: 3273\n",
      "\n",
      "CAS | total_n: 474 | n_cases: 195 | n_controls: 279 | n_snps: 5367\n",
      "\n",
      "AMR | total_n: 550 | n_cases: 345 | n_controls: 205 | n_snps: 5020\n",
      "\n",
      "AFR | total_n: 2343 | n_cases: 855 | n_controls: 1488 | n_snps: 18843\n",
      "\n"
     ]
    }
   ],
   "source": [
    "\n",
    "total_sample_n = 0\n",
    "for label in ancestry_labels:\n",
    "    out_name = f'GP2_round5_APRIL_2023_{label}_clean'\n",
    "    out_path = f'{cnv_path}/genotypes/{out_name}'\n",
    "    fam = pd.read_csv(f'{out_path}.fam', sep='\\s+', header=None, names=['fid','iid','pat','mat','sex','pheno'])\n",
    "    pheno_counts = fam.pheno.value_counts()\n",
    "    ncases = pheno_counts[2]\n",
    "    ncontrols = pheno_counts[1]\n",
    "    ntotal = ncases + ncontrols\n",
    "    total_sample_n += ntotal\n",
    "    nsnps = !cat {out_path}.bim | wc -l\n",
    "    print(f'{label} | total_n: {ntotal} | n_cases: {ncases} | n_controls: {ncontrols} | n_snps: {int(nsnps[0])}')\n",
    "    print()"
   ]
  },
  {
   "cell_type": "code",
   "execution_count": 18,
   "id": "d88db2ff-516c-4e0e-9e50-2ae5763cd9e6",
   "metadata": {},
   "outputs": [],
   "source": [
    "missing_metrics = []\n",
    "with open(f'{swarm_scripts_dir}/cnvs.swarm', 'w') as f:\n",
    "    for label in ancestry_labels:\n",
    "    # for label in ['EUR']:\n",
    "        out_name = f'GP2_round5_APRIL_2023_{label}_clean'\n",
    "        geno_path = f'{cnv_path}/genotypes/{out_name}'\n",
    "        bim_path = f'{geno_path}.bim'\n",
    "        fam = pd.read_csv(f'{geno_path}.fam', sep='\\s+', header=None, names=['FID','IID','pat','mat','sex','pheno'])\n",
    "        fam_key = fam.merge(key, left_on='IID', right_on='GP2sampleID', how='left')\n",
    "\n",
    "        # samples = pd.read_csv(f'{geno_path}_barcode.samples', header=None, names=['IID'])\n",
    "        label_dir = f'{cnv_path}/cnv_calls/{label}'\n",
    "        os.makedirs(label_dir, exist_ok=True)\n",
    "        for sample in fam_key.filename.unique():\n",
    "            code = sample.split('_')[0]\n",
    "\n",
    "            # mfile = f'{snp_metrics_path}/{code}/snp_metrics_{sample}_chr{chrom}.parquet'\n",
    "            mfile = f'/data/GP2/raw_genotypes/snp_metrics/{code}/snp_metrics_{code}.parquet/Sample_ID={sample}'\n",
    "            \n",
    "            if os.path.isdir(mfile):\n",
    "                cnv_out = f'{label_dir}/CNV_{label}_{sample}.parquet'\n",
    "                intervals = f'/data/GP2/utils/ref_dir/glist_hg38_intervals.csv'\n",
    "\n",
    "                cmd = f'\\\n",
    "python run_cnv_pipeline.py \\\n",
    "--metrics {mfile} \\\n",
    "--bim {bim_path} \\\n",
    "--out_path {cnv_out} \\\n",
    "--intervals {intervals} \\\n",
    "--min_variants 10 \\\n",
    "--kb_window 250 \\\n",
    "--min_gentrain 0.2'\n",
    "\n",
    "                f.write(f'{cmd}\\n')\n",
    "            \n",
    "            else:\n",
    "                missing_metrics.append(sample)\n",
    "f.close()"
   ]
  },
  {
   "cell_type": "code",
   "execution_count": 27,
   "id": "e5943a0e-afc6-4605-93e8-5e308777bd45",
   "metadata": {},
   "outputs": [
    {
     "name": "stdout",
     "output_type": "stream",
     "text": [
      "64688128\n"
     ]
    }
   ],
   "source": [
    "!swarm -f {swarm_scripts_dir}/cnvs.swarm -g 16 -t 8 --time=00:15:00 --logdir {swarm_scripts_dir}/logs --module python/3.8 --gres=lscratch:20 --partition=norm"
   ]
  },
  {
   "cell_type": "code",
   "execution_count": null,
   "id": "9649b857-e63d-442e-8b7d-c2823c24b18f",
   "metadata": {},
   "outputs": [],
   "source": []
  },
  {
   "cell_type": "code",
   "execution_count": 7,
   "id": "01ec7720-ee0c-420b-9c37-f10799e28856",
   "metadata": {},
   "outputs": [
    {
     "data": {
      "text/html": [
       "<div>\n",
       "<style scoped>\n",
       "    .dataframe tbody tr th:only-of-type {\n",
       "        vertical-align: middle;\n",
       "    }\n",
       "\n",
       "    .dataframe tbody tr th {\n",
       "        vertical-align: top;\n",
       "    }\n",
       "\n",
       "    .dataframe thead th {\n",
       "        text-align: right;\n",
       "    }\n",
       "</style>\n",
       "<table border=\"1\" class=\"dataframe\">\n",
       "  <thead>\n",
       "    <tr style=\"text-align: right;\">\n",
       "      <th></th>\n",
       "      <th>INTERVAL</th>\n",
       "      <th>NUM_VARIANTS</th>\n",
       "      <th>PERCENT_BAF_INSERTION</th>\n",
       "      <th>PERCENT_L2R_DELETION</th>\n",
       "      <th>PERCENT_L2R_DUPLICATION</th>\n",
       "      <th>START_PLUS_WINDOW</th>\n",
       "      <th>START</th>\n",
       "      <th>STOP</th>\n",
       "      <th>STOP_PLUS_WINDOW</th>\n",
       "    </tr>\n",
       "  </thead>\n",
       "  <tbody>\n",
       "    <tr>\n",
       "      <th>85</th>\n",
       "      <td>ABCG1</td>\n",
       "      <td>13</td>\n",
       "      <td>0.000000</td>\n",
       "      <td>0.000000</td>\n",
       "      <td>0.000000</td>\n",
       "      <td>41949688</td>\n",
       "      <td>42199688</td>\n",
       "      <td>42297244</td>\n",
       "      <td>42547244</td>\n",
       "    </tr>\n",
       "    <tr>\n",
       "      <th>121</th>\n",
       "      <td>ABR</td>\n",
       "      <td>12</td>\n",
       "      <td>0.000000</td>\n",
       "      <td>0.000000</td>\n",
       "      <td>0.166667</td>\n",
       "      <td>753517</td>\n",
       "      <td>1003517</td>\n",
       "      <td>1187322</td>\n",
       "      <td>1437322</td>\n",
       "    </tr>\n",
       "    <tr>\n",
       "      <th>190</th>\n",
       "      <td>ACPT</td>\n",
       "      <td>16</td>\n",
       "      <td>0.000000</td>\n",
       "      <td>0.000000</td>\n",
       "      <td>0.000000</td>\n",
       "      <td>50540414</td>\n",
       "      <td>50790414</td>\n",
       "      <td>50795224</td>\n",
       "      <td>51045224</td>\n",
       "    </tr>\n",
       "    <tr>\n",
       "      <th>237</th>\n",
       "      <td>ACTR3B</td>\n",
       "      <td>13</td>\n",
       "      <td>0.076923</td>\n",
       "      <td>0.000000</td>\n",
       "      <td>0.076923</td>\n",
       "      <td>152509748</td>\n",
       "      <td>152759748</td>\n",
       "      <td>152855379</td>\n",
       "      <td>153105379</td>\n",
       "    </tr>\n",
       "    <tr>\n",
       "      <th>291</th>\n",
       "      <td>ADAMTS2</td>\n",
       "      <td>13</td>\n",
       "      <td>0.000000</td>\n",
       "      <td>0.000000</td>\n",
       "      <td>0.076923</td>\n",
       "      <td>178860850</td>\n",
       "      <td>179110850</td>\n",
       "      <td>179345430</td>\n",
       "      <td>179595430</td>\n",
       "    </tr>\n",
       "    <tr>\n",
       "      <th>...</th>\n",
       "      <td>...</td>\n",
       "      <td>...</td>\n",
       "      <td>...</td>\n",
       "      <td>...</td>\n",
       "      <td>...</td>\n",
       "      <td>...</td>\n",
       "      <td>...</td>\n",
       "      <td>...</td>\n",
       "      <td>...</td>\n",
       "    </tr>\n",
       "    <tr>\n",
       "      <th>25314</th>\n",
       "      <td>ZNF556</td>\n",
       "      <td>13</td>\n",
       "      <td>0.000000</td>\n",
       "      <td>0.076923</td>\n",
       "      <td>0.153846</td>\n",
       "      <td>2617334</td>\n",
       "      <td>2867334</td>\n",
       "      <td>2878503</td>\n",
       "      <td>3128503</td>\n",
       "    </tr>\n",
       "    <tr>\n",
       "      <th>25476</th>\n",
       "      <td>ZNF761</td>\n",
       "      <td>17</td>\n",
       "      <td>0.000000</td>\n",
       "      <td>0.000000</td>\n",
       "      <td>0.117647</td>\n",
       "      <td>53181973</td>\n",
       "      <td>53431973</td>\n",
       "      <td>53458261</td>\n",
       "      <td>53708261</td>\n",
       "    </tr>\n",
       "    <tr>\n",
       "      <th>25479</th>\n",
       "      <td>ZNF765</td>\n",
       "      <td>16</td>\n",
       "      <td>0.000000</td>\n",
       "      <td>0.000000</td>\n",
       "      <td>0.125000</td>\n",
       "      <td>53145143</td>\n",
       "      <td>53395143</td>\n",
       "      <td>53412009</td>\n",
       "      <td>53662009</td>\n",
       "    </tr>\n",
       "    <tr>\n",
       "      <th>25515</th>\n",
       "      <td>ZNF813</td>\n",
       "      <td>17</td>\n",
       "      <td>0.000000</td>\n",
       "      <td>0.000000</td>\n",
       "      <td>0.117647</td>\n",
       "      <td>53217734</td>\n",
       "      <td>53467734</td>\n",
       "      <td>53494292</td>\n",
       "      <td>53744292</td>\n",
       "    </tr>\n",
       "    <tr>\n",
       "      <th>25536</th>\n",
       "      <td>ZNF845</td>\n",
       "      <td>15</td>\n",
       "      <td>0.000000</td>\n",
       "      <td>0.000000</td>\n",
       "      <td>0.133333</td>\n",
       "      <td>53083748</td>\n",
       "      <td>53333748</td>\n",
       "      <td>53354869</td>\n",
       "      <td>53604869</td>\n",
       "    </tr>\n",
       "  </tbody>\n",
       "</table>\n",
       "<p>639 rows × 9 columns</p>\n",
       "</div>"
      ],
      "text/plain": [
       "      INTERVAL  NUM_VARIANTS  PERCENT_BAF_INSERTION  PERCENT_L2R_DELETION  \\\n",
       "85       ABCG1            13               0.000000              0.000000   \n",
       "121        ABR            12               0.000000              0.000000   \n",
       "190       ACPT            16               0.000000              0.000000   \n",
       "237     ACTR3B            13               0.076923              0.000000   \n",
       "291    ADAMTS2            13               0.000000              0.000000   \n",
       "...        ...           ...                    ...                   ...   \n",
       "25314   ZNF556            13               0.000000              0.076923   \n",
       "25476   ZNF761            17               0.000000              0.000000   \n",
       "25479   ZNF765            16               0.000000              0.000000   \n",
       "25515   ZNF813            17               0.000000              0.000000   \n",
       "25536   ZNF845            15               0.000000              0.000000   \n",
       "\n",
       "       PERCENT_L2R_DUPLICATION  START_PLUS_WINDOW      START       STOP  \\\n",
       "85                    0.000000           41949688   42199688   42297244   \n",
       "121                   0.166667             753517    1003517    1187322   \n",
       "190                   0.000000           50540414   50790414   50795224   \n",
       "237                   0.076923          152509748  152759748  152855379   \n",
       "291                   0.076923          178860850  179110850  179345430   \n",
       "...                        ...                ...        ...        ...   \n",
       "25314                 0.153846            2617334    2867334    2878503   \n",
       "25476                 0.117647           53181973   53431973   53458261   \n",
       "25479                 0.125000           53145143   53395143   53412009   \n",
       "25515                 0.117647           53217734   53467734   53494292   \n",
       "25536                 0.133333           53083748   53333748   53354869   \n",
       "\n",
       "       STOP_PLUS_WINDOW  \n",
       "85             42547244  \n",
       "121             1437322  \n",
       "190            51045224  \n",
       "237           153105379  \n",
       "291           179595430  \n",
       "...                 ...  \n",
       "25314           3128503  \n",
       "25476          53708261  \n",
       "25479          53662009  \n",
       "25515          53744292  \n",
       "25536          53604869  \n",
       "\n",
       "[639 rows x 9 columns]"
      ]
     },
     "execution_count": 7,
     "metadata": {},
     "output_type": "execute_result"
    }
   ],
   "source": [
    "# test_cnv = pd.read_parquet('/data/GP2/raw_genotypes/cnvs/release5/cnv_calls/EUR/CNV_EUR_204620380001_R01C01.parquet')\n",
    "test_cnv[test_cnv.NUM_VARIANTS>10]"
   ]
  },
  {
   "cell_type": "code",
   "execution_count": 13,
   "id": "62c63096-42fa-4e6c-a25b-fce62a380e05",
   "metadata": {},
   "outputs": [
    {
     "data": {
      "text/plain": [
       "array(['206966380021_R01C01', '206966380021_R02C01',\n",
       "       '206966380021_R03C01', ..., '206412050061_R06C01',\n",
       "       '206412050061_R07C01', '206412050061_R08C01'], dtype=object)"
      ]
     },
     "execution_count": 13,
     "metadata": {},
     "output_type": "execute_result"
    }
   ],
   "source": [
    "samples_list"
   ]
  },
  {
   "cell_type": "code",
   "execution_count": 18,
   "id": "0bdd6207-9402-48c8-a1f2-2c5083194ddf",
   "metadata": {},
   "outputs": [
    {
     "name": "stdout",
     "output_type": "stream",
     "text": [
      "/data/GP2/raw_genotypes/cnvs/release5/cnv_calls/EUR/CNV_EUR_204620380001_R01C01.parquet\n"
     ]
    }
   ],
   "source": [
    "!ls {cnv_path}/cnv_calls/EUR/CNV_EUR_204620380001_R01C01.parquet"
   ]
  },
  {
   "cell_type": "code",
   "execution_count": 21,
   "id": "09006d9d-e195-433e-b9b8-f809944ea0b5",
   "metadata": {},
   "outputs": [],
   "source": [
    "# for label in ancestry_labels:\n",
    "for label in ['EUR']:\n",
    "    cnv_dir_ = f'{cnv_path}/cnv_calls/EUR/'\n",
    "    label_cnvs_list = glob.glob(f'{cnv_dir_}/*.parquet')\n",
    "    "
   ]
  },
  {
   "cell_type": "code",
   "execution_count": 23,
   "id": "8f77c340-6240-44fb-9e87-898718214880",
   "metadata": {},
   "outputs": [
    {
     "data": {
      "text/plain": [
       "15356"
      ]
     },
     "execution_count": 23,
     "metadata": {},
     "output_type": "execute_result"
    }
   ],
   "source": [
    "len(label_cnvs_list)"
   ]
  },
  {
   "cell_type": "code",
   "execution_count": 24,
   "id": "dd764b9e-24b1-44a7-8b41-442fdc774d7d",
   "metadata": {},
   "outputs": [
    {
     "data": {
      "text/plain": [
       "['PERCENT_BAF_INSERTION', 'PERCENT_L2R_DELETION', 'PERCENT_L2R_DUPLICATION']"
      ]
     },
     "execution_count": 24,
     "metadata": {},
     "output_type": "execute_result"
    }
   ],
   "source": [
    "cnv_types"
   ]
  },
  {
   "cell_type": "code",
   "execution_count": null,
   "id": "22a4a8b9-6e1d-4f7e-89b2-e95610294426",
   "metadata": {},
   "outputs": [],
   "source": []
  },
  {
   "cell_type": "code",
   "execution_count": null,
   "id": "eaaf79c3-e2dc-4be4-aa37-7403128f7699",
   "metadata": {},
   "outputs": [],
   "source": []
  },
  {
   "cell_type": "code",
   "execution_count": 25,
   "id": "75f31342-5241-48f9-bdf5-e73b1c46798d",
   "metadata": {
    "tags": []
   },
   "outputs": [],
   "source": [
    "# write dosages per chromosome per ancestry per cnv-type\n",
    "\n",
    "with open(f'{swarm_scripts_dir}/cnv_dosages.swarm', 'w') as f:\n",
    "    for label in ancestry_labels:\n",
    "        label_dir = f'{cnv_path}/dosages/{label}'\n",
    "        os.makedirs(label_dir, exist_ok=True)\n",
    "\n",
    "        cnv_files_list = glob.glob(f'{cnv_path}/cnv_calls/{label}/CNV_{label}_*.parquet')\n",
    "        cnv_files_df = pd.DataFrame({'filename': cnv_files_list})\n",
    "        cnv_files_df.to_csv(f'{label_dir}/CNV_{label}_files.csv', header=False, index=False)\n",
    "\n",
    "        for cnv_type in cnv_types:\n",
    "\n",
    "            cmd = f'\\\n",
    "python /data/vitaled2/CNVs/run_cnv_dosage_pipeline.py \\\n",
    "--files {label_dir}/CNV_{label}_files.csv \\\n",
    "--label {label} \\\n",
    "--cnv_type {cnv_type} \\\n",
    "--out_path {label_dir}/CNV_{label}_{cnv_type}.csv'\n",
    "            f.write(f'{cmd}\\n')\n",
    "f.close()\n"
   ]
  },
  {
   "cell_type": "code",
   "execution_count": 29,
   "id": "5bce1bd2-a140-47d7-93cb-f6515adea344",
   "metadata": {},
   "outputs": [
    {
     "name": "stdout",
     "output_type": "stream",
     "text": [
      "64981537\n"
     ]
    }
   ],
   "source": [
    "!swarm -f {swarm_scripts_dir}/cnv_dosages.swarm -g 8 -t 4 --logdir {swarm_scripts_dir}/logs --module python/3.8 --gres=lscratch:20 --partition=norm"
   ]
  },
  {
   "cell_type": "code",
   "execution_count": 48,
   "id": "df6aa171-8971-4982-b2ba-ba425f027361",
   "metadata": {},
   "outputs": [
    {
     "name": "stdout",
     "output_type": "stream",
     "text": [
      "GP2ID,GP2sampleID,manifest_id,phenotype,pheno_for_qc,other_pheno,sex_for_qc,age,age_of_onset,age_at_diagnosis,age_at_death,race_for_qc,family_history,region_for_qc,study,pruned,pruned_reason,label,related,SentrixBarcode_A,SentrixPosition_A,filename\n",
      "IMMUNEPD_000001,IMMUNEPD_000001_s1,m1,PD,2,PD,1,61.0,,61.0,,White,Yes,USA,IMMUNEPD,0,,EUR,,206966380021,R01C01,206966380021_R01C01\n",
      "IMMUNEPD_000002,IMMUNEPD_000002_s1,m1,PD,2,PD,1,66.0,,66.0,,White,Yes,USA,IMMUNEPD,0,,EUR,,206966380021,R02C01,206966380021_R02C01\n",
      "IMMUNEPD_000003,IMMUNEPD_000003_s1,m1,Control,1,Control,2,55.0,,,,White,No,USA,IMMUNEPD,0,,EUR,,206966380021,R03C01,206966380021_R03C01\n",
      "IMMUNEPD_000004,IMMUNEPD_000004_s1,m1,Control,1,Control,1,50.0,,,,White,No,USA,IMMUNEPD,0,,EUR,,206966380021,R04C01,206966380021_R04C01\n",
      "IMMUNEPD_000005,IMMUNEPD_000005_s1,m1,Control,1,Control,2,74.0,,,,White,No,USA,IMMUNEPD,0,,EUR,,206966380021,R05C01,206966380021_R05C01\n",
      "IMMUNEPD_000006,IMMUNEPD_000006_s1,m1,PD,2,PD,1,71.0,,69.0,,White,No,USA,IMMUNEPD,0,,EUR,,206966380021,R06C01,206966380021_R06C01\n",
      "IMMUNEPD_000007,IMMUNEPD_000007_s1,m1,Control,1,Control,2,63.0,,,,White,No,USA,IMMUNEPD,0,,EUR,,206966380021,R07C01,206966380021_R07C01\n",
      "IMMUNEPD_000008,IMMUNEPD_000008_s1,m1,PD,2,PD,1,60.0,,59.0,,White,No,USA,IMMUNEPD,0,,EUR,,206966380021,R08C01,206966380021_R08C01\n",
      "IMMUNEPD_000009,IMMUNEPD_000009_s1,m1,Control,1,Control,1,74.0,,,,White,No,USA,IMMUNEPD,0,,EUR,,206978580059,R01C01,206978580059_R01C01\n"
     ]
    }
   ],
   "source": [
    "!head /data/GP2/clinical/master_key/GP2_master_key_FINAL_release5_n26728.txt"
   ]
  },
  {
   "cell_type": "code",
   "execution_count": 58,
   "id": "8eaefe81-9ec6-4179-9f2c-776ba966b8ba",
   "metadata": {},
   "outputs": [],
   "source": [
    "with open(f'{swarm_scripts_dir}/update_cnv_ids.swarm','w') as f:\n",
    "    for label in ancestry_labels:\n",
    "        label_dir = f'{cnv_path}/dosages/{label}'\n",
    "        out_dir = f'/data/GP2/releases/gp2tier2/release5_11052023/cnvs/{label}'\n",
    "        os.makedirs(out_dir, exist_ok=True)\n",
    "        for cnv_type in cnv_types:\n",
    "\n",
    "            dosagefile = f'{label_dir}/CNV_{label}_{cnv_type}.csv'\n",
    "            dosagefile_out = f'{out_dir}/CNV_{label}_{cnv_type}_gp2ids.csv'\n",
    "            pheno_out = f'{label_dir}/GP2_{label}_{cnv_type}.pheno'\n",
    "            cmd = f'\\\n",
    "python update_cnv_ids.py \\\n",
    "--dosagefile {dosagefile} \\\n",
    "--key /data/GP2/clinical/master_key/GP2_master_key_FINAL_release5_n26728.txt \\\n",
    "--pheno_out {pheno_out} \\\n",
    "--out_path {dosagefile_out}'\n",
    "            f.write(f'{cmd}\\n')\n",
    "f.close()"
   ]
  },
  {
   "cell_type": "code",
   "execution_count": 59,
   "id": "051dc35b-f2f2-4eb8-877a-a720e822fb04",
   "metadata": {},
   "outputs": [
    {
     "name": "stdout",
     "output_type": "stream",
     "text": [
      "65062074\n"
     ]
    }
   ],
   "source": [
    "!swarm -f {swarm_scripts_dir}/update_cnv_ids.swarm -g 8 -t 8 --logdir {swarm_scripts_dir}/logs --module python/3.8 --gres=lscratch:20 --partition=norm"
   ]
  },
  {
   "cell_type": "code",
   "execution_count": 93,
   "id": "d1b65e0b-4010-4502-b1b4-ed2e10f7c1a4",
   "metadata": {
    "tags": []
   },
   "outputs": [
    {
     "name": "stdout",
     "output_type": "stream",
     "text": [
      ",FID,GP2sampleID,sex_for_qc,age,age_of_onset\n",
      "0,0,IMMUNEPD_000001_s1,1,61.0,\n",
      "1,0,IMMUNEPD_000002_s1,1,66.0,\n",
      "2,0,IMMUNEPD_000003_s1,2,55.0,\n",
      "3,0,IMMUNEPD_000004_s1,1,50.0,\n",
      "4,0,IMMUNEPD_000005_s1,2,74.0,\n",
      "5,0,IMMUNEPD_000006_s1,1,71.0,\n",
      "6,0,IMMUNEPD_000007_s1,2,63.0,\n",
      "7,0,IMMUNEPD_000008_s1,1,60.0,\n",
      "8,0,IMMUNEPD_000009_s1,1,74.0,\n"
     ]
    }
   ],
   "source": [
    "# !cat {swarm_scripts_dir}/logs/swarm_65062074_0.o\n",
    "# dosagefile\n",
    "# !head /data/GP2/raw_genotypes/cnvs/release5/dosages/FIN/CNV_FIN_PERCENT_BAF_INSERTION.csv\n",
    "# !head /data/GP2/releases/gp2tier2/release5_11052023/cnvs/EUR/CNV_EUR_PERCENT_BAF_INSERTION_gp2ids.csv\n",
    "# !ls /data/GP2/releases/gp2tier2/release5_11052023/cnvs/EUR\n",
    "# !head /data/GP2/raw_genotypes/cnvs/release5/dosages/EUR/GP2_EUR_PERCENT_BAF_INSERTION.pheno\n",
    "!head {cnv_path}/key/release5_covar.csv"
   ]
  },
  {
   "cell_type": "code",
   "execution_count": 82,
   "id": "3b3a4dec-9b45-40ac-a1bc-0c51090c2819",
   "metadata": {},
   "outputs": [],
   "source": [
    "cnv_out_path = '/data/GP2/raw_genotypes/cnvwas'\n",
    "with open(f'{swarm_scripts_dir}/cnvwas.swarm', 'w') as f:\n",
    "    for label in ancestry_labels:\n",
    "        for cnv_type in cnv_types:\n",
    "\n",
    "            dosagefile = f'/data/GP2/releases/gp2tier2/release5_11052023/cnvs/{label}/CNV_{label}_{cnv_type}_gp2ids.csv'\n",
    "            pheno = f'{cnv_path}/dosages/{label}/GP2_{label}_{cnv_type}.pheno'\n",
    "            covar = f'{cnv_path}/key/release5_covar.csv'\n",
    "            out_path = f'{cnv_out_path}/GP2_{label}_{cnv_type}_cnvwas.tab'\n",
    "\n",
    "            cmd = f'\\\n",
    "python run_cnvwas_pipeline.py \\\n",
    "--cnv_dosage_file {dosagefile} \\\n",
    "--out_path {out_path} \\\n",
    "--pheno {pheno} \\\n",
    "--covar {covar}'\n",
    "\n",
    "            f.write(f'{cmd}\\n')\n",
    "f.close()\n"
   ]
  },
  {
   "cell_type": "code",
   "execution_count": 99,
   "id": "9098b284-30f8-4c79-9944-9dc8da375090",
   "metadata": {},
   "outputs": [
    {
     "name": "stdout",
     "output_type": "stream",
     "text": [
      "65078390\n"
     ]
    }
   ],
   "source": [
    "!swarm -f {swarm_scripts_dir}/cnvwas.swarm -g 32 -t 16 --time=00:30:00 --logdir {swarm_scripts_dir}/logs --gres=lscratch:20 --partition=norm"
   ]
  },
  {
   "cell_type": "code",
   "execution_count": 104,
   "id": "ec1d93dc-88fc-472b-98bd-7024d178de8a",
   "metadata": {},
   "outputs": [
    {
     "name": "stdout",
     "output_type": "stream",
     "text": [
      "Traceback (most recent call last):\n",
      "  File \"run_cnvwas_pipeline.py\", line 17, in <module>\n",
      "    CNV_WAS(cnv_dosage_file, pheno, covar, out_path)\n",
      "  File \"/gpfs/gsfs12/users/vitaled2/CNVs/CNV/cnv.py\", line 503, in CNV_WAS\n",
      "    fitted = sm.formula.glm(formula=formula, family=sm.families.Binomial(), data=data_df_final).fit()\n",
      "  File \"/usr/local/Anaconda/envs/py3.8/lib/python3.8/site-packages/statsmodels/genmod/generalized_linear_model.py\", line 1075, in fit\n",
      "    return self._fit_irls(start_params=start_params, maxiter=maxiter,\n",
      "  File \"/usr/local/Anaconda/envs/py3.8/lib/python3.8/site-packages/statsmodels/genmod/generalized_linear_model.py\", line 1224, in _fit_irls\n",
      "    raise PerfectSeparationError(msg)\n",
      "statsmodels.tools.sm_exceptions.PerfectSeparationError: Perfect separation detected, results not available\n"
     ]
    }
   ],
   "source": [
    "!cat {swarm_scripts_dir}/logs/swarm_65078390_29.e\n",
    "\n",
    "\n"
   ]
  },
  {
   "cell_type": "code",
   "execution_count": 86,
   "id": "931f3e00-37b1-4a89-b7b3-529d0ca4c7ce",
   "metadata": {},
   "outputs": [
    {
     "name": "stdout",
     "output_type": "stream",
     "text": [
      "\n",
      "RUNNING: lambda_calculation\n",
      "\n",
      "\n",
      "RUNNING: lambda_calculation\n",
      "\n",
      "\n",
      "RUNNING: lambda_calculation\n",
      "\n"
     ]
    }
   ],
   "source": [
    "from GWAS.gwas import calculate_inflation\n",
    "label = 'EUR'\n",
    "# cnv_type = 'PERCENT_BAF_INSERTION'\n",
    "# cnv_type = 'PERCENT_L2R_DUPLICATION'\n",
    "# chrom = '1'\n",
    "pheno_df = pd.read_csv(f'{cnv_path}/GP2_EUR_{cnv_type}.pheno', sep='\\t', engine='python')\n",
    "ncontrols = pheno_df.pheno.value_counts()[0]\n",
    "ncases = pheno_df.pheno.value_counts()[1]\n",
    "cnv_lambda_dict = dict()\n",
    "for cnv_type in cnv_types:\n",
    "    total_cnvtype_df = pd.DataFrame()\n",
    "    for chrom in chroms:\n",
    "        tab = f'{cnv_out_path}/GP2_{label}_{cnv_type}_cnvwas.tab'\n",
    "\n",
    "        if os.path.isfile(tab):\n",
    "\n",
    "            sumstats = pd.read_csv(tab, sep='\\s+', engine='python')\n",
    "            # print(tab)\n",
    "            # infl = calculate_inflation(sumstats.P_VAL, normalize=True, ncases=ncases, ncontrols=ncontrols)\n",
    "            # print(infl)\n",
    "            # print()\n",
    "            # print()\n",
    "            total_cnvtype_df = pd.concat([total_cnvtype_df, sumstats], ignore_index=True)\n",
    "        else:\n",
    "            print(f'{tab} does not exist!')\n",
    "\n",
    "    infl = calculate_inflation(total_cnvtype_df.P_VAL, normalize=True, ncases=ncases, ncontrols=ncontrols)\n",
    "    cnv_lambda_dict[cnv_type] = infl\n",
    "    \n",
    "\n"
   ]
  },
  {
   "cell_type": "code",
   "execution_count": 91,
   "id": "69500012-0c99-45cf-8c91-0a8afa7e3ff4",
   "metadata": {},
   "outputs": [
    {
     "data": {
      "text/plain": [
       "{'PERCENT_BAF_INSERTION': {'pass': True,\n",
       "  'step': 'lambda_calculation',\n",
       "  'metrics': {'inflation': 2.101750589371727}},\n",
       " 'PERCENT_L2R_DELETION': {'pass': True,\n",
       "  'step': 'lambda_calculation',\n",
       "  'metrics': {'inflation': 14.555569305672298}},\n",
       " 'PERCENT_L2R_DUPLICATION': {'pass': True,\n",
       "  'step': 'lambda_calculation',\n",
       "  'metrics': {'inflation': 1.3423052908502526}}}"
      ]
     },
     "execution_count": 91,
     "metadata": {},
     "output_type": "execute_result"
    }
   ],
   "source": [
    "cnv_lambda_dict"
   ]
  },
  {
   "cell_type": "code",
   "execution_count": 82,
   "id": "20feb548-fbfc-49d5-8d92-98ee2afc218a",
   "metadata": {},
   "outputs": [
    {
     "name": "stdout",
     "output_type": "stream",
     "text": [
      "\n",
      "RUNNING: lambda_calculation\n",
      "\n"
     ]
    },
    {
     "data": {
      "text/plain": [
       "{'pass': True,\n",
       " 'step': 'lambda_calculation',\n",
       " 'metrics': {'inflation': 1.3423052908502526}}"
      ]
     },
     "execution_count": 82,
     "metadata": {},
     "output_type": "execute_result"
    }
   ],
   "source": [
    "\n",
    "pheno = pd.read_csv(f'{cnv_path}/GP2_EUR_chr1_{cnv_type}.pheno', sep='\\t', engine='python')\n",
    "ncontrols = pheno.pheno.value_counts()[0]\n",
    "ncases = pheno.pheno.value_counts()[1]\n",
    "\n",
    "infl = calculate_inflation(total_cnvtype_df.P_VAL, normalize=True, ncases=ncases, ncontrols=ncontrols)\n",
    "infl"
   ]
  },
  {
   "cell_type": "code",
   "execution_count": 75,
   "id": "0e4d119f-b74a-4af8-8548-dd4c2b844198",
   "metadata": {},
   "outputs": [
    {
     "data": {
      "text/plain": [
       "8066"
      ]
     },
     "execution_count": 75,
     "metadata": {},
     "output_type": "execute_result"
    }
   ],
   "source": [
    "ncases"
   ]
  },
  {
   "cell_type": "code",
   "execution_count": 65,
   "id": "02570930-f095-4a36-a28d-d6d0b93c723c",
   "metadata": {},
   "outputs": [
    {
     "data": {
      "text/plain": [
       "13911"
      ]
     },
     "execution_count": 65,
     "metadata": {},
     "output_type": "execute_result"
    }
   ],
   "source": [
    "pheno.pheno.value_counts()[1] + pheno.pheno.value_counts()[0] + 1475"
   ]
  },
  {
   "cell_type": "code",
   "execution_count": 38,
   "id": "d68612b4-bb57-481d-8506-b1cd1ab71891",
   "metadata": {},
   "outputs": [
    {
     "data": {
      "text/plain": [
       "1    8066\n",
       "0    4370\n",
       "Name: pheno, dtype: int64"
      ]
     },
     "execution_count": 38,
     "metadata": {},
     "output_type": "execute_result"
    }
   ],
   "source": []
  },
  {
   "cell_type": "code",
   "execution_count": 40,
   "id": "ce8cb4aa-172a-4258-911f-2e38dd93c0a3",
   "metadata": {},
   "outputs": [
    {
     "data": {
      "text/plain": [
       " 2    8711\n",
       " 1    4876\n",
       "-9    1475\n",
       "Name: pheno, dtype: int64"
      ]
     },
     "execution_count": 40,
     "metadata": {},
     "output_type": "execute_result"
    }
   ],
   "source": [
    "fam = pd.read_csv(f'/data/GP2/quality_control/release4/genotype_qc/GP2_round4_JAN_24_2023_{label}.fam', sep='\\t', header=None, names=['fid','iid','pat','mat','sex','pheno'], engine='python')\n",
    "fam.pheno.value_counts()"
   ]
  },
  {
   "cell_type": "code",
   "execution_count": null,
   "id": "06cd40f1-e86e-4a8e-9f2a-4f2c36cd8eba",
   "metadata": {},
   "outputs": [],
   "source": []
  },
  {
   "cell_type": "code",
   "execution_count": 54,
   "id": "3087cdf2-024f-4d96-bdb2-5cfb319558f4",
   "metadata": {},
   "outputs": [
    {
     "data": {
      "text/plain": [
       "'/data/GP2/raw_genotypes/cnvs/release4/CNV_EUR_chr1_PERCENT_L2R_DUPLICATION_gp2ids.csv'"
      ]
     },
     "execution_count": 54,
     "metadata": {},
     "output_type": "execute_result"
    }
   ],
   "source": [
    "\n",
    "cnv_dosage_file"
   ]
  },
  {
   "cell_type": "code",
   "execution_count": 64,
   "id": "f68a016a-a0e2-4fd9-a513-49c333668b0f",
   "metadata": {},
   "outputs": [
    {
     "name": "stdout",
     "output_type": "stream",
     "text": [
      "Optimization terminated successfully.\n",
      "         Current function value: 0.638843\n",
      "         Iterations 6\n",
      "Optimization terminated successfully.\n",
      "         Current function value: 0.639250\n",
      "         Iterations 6\n",
      "Optimization terminated successfully.\n",
      "         Current function value: 0.639028\n",
      "         Iterations 6\n",
      "Optimization terminated successfully.\n",
      "         Current function value: 0.639249\n",
      "         Iterations 6\n",
      "Optimization terminated successfully.\n",
      "         Current function value: 0.639250\n",
      "         Iterations 6\n",
      "Optimization terminated successfully.\n",
      "         Current function value: 0.639149\n",
      "         Iterations 6\n",
      "Optimization terminated successfully.\n",
      "         Current function value: 0.636706\n",
      "         Iterations 6\n",
      "Optimization terminated successfully.\n",
      "         Current function value: 0.639198\n",
      "         Iterations 6\n",
      "Optimization terminated successfully.\n",
      "         Current function value: 0.639250\n",
      "         Iterations 6\n",
      "Optimization terminated successfully.\n",
      "         Current function value: 0.639085\n",
      "         Iterations 6\n",
      "Optimization terminated successfully.\n",
      "         Current function value: 0.638965\n",
      "         Iterations 6\n",
      "Optimization terminated successfully.\n",
      "         Current function value: 0.639251\n",
      "         Iterations 6\n",
      "Optimization terminated successfully.\n",
      "         Current function value: 0.639251\n",
      "         Iterations 6\n",
      "Optimization terminated successfully.\n",
      "         Current function value: 0.639252\n",
      "         Iterations 6\n",
      "Optimization terminated successfully.\n",
      "         Current function value: 0.639221\n",
      "         Iterations 6\n",
      "Optimization terminated successfully.\n",
      "         Current function value: 0.639227\n",
      "         Iterations 6\n",
      "Optimization terminated successfully.\n",
      "         Current function value: 0.639244\n",
      "         Iterations 6\n",
      "Optimization terminated successfully.\n",
      "         Current function value: 0.638848\n",
      "         Iterations 6\n",
      "Optimization terminated successfully.\n",
      "         Current function value: 0.639203\n",
      "         Iterations 6\n",
      "Optimization terminated successfully.\n",
      "         Current function value: 0.639254\n",
      "         Iterations 6\n",
      "Optimization terminated successfully.\n",
      "         Current function value: 0.639143\n",
      "         Iterations 6\n",
      "Optimization terminated successfully.\n",
      "         Current function value: 0.639249\n",
      "         Iterations 6\n",
      "Optimization terminated successfully.\n",
      "         Current function value: 0.638589\n",
      "         Iterations 6\n",
      "Optimization terminated successfully.\n",
      "         Current function value: 0.639251\n",
      "         Iterations 6\n",
      "Optimization terminated successfully.\n",
      "         Current function value: 0.639117\n",
      "         Iterations 6\n",
      "Optimization terminated successfully.\n",
      "         Current function value: 0.639252\n",
      "         Iterations 6\n",
      "Optimization terminated successfully.\n",
      "         Current function value: 0.638968\n",
      "         Iterations 6\n",
      "Optimization terminated successfully.\n",
      "         Current function value: 0.639045\n",
      "         Iterations 6\n",
      "Optimization terminated successfully.\n",
      "         Current function value: 0.639113\n",
      "         Iterations 6\n",
      "Optimization terminated successfully.\n",
      "         Current function value: 0.639254\n",
      "         Iterations 6\n",
      "Optimization terminated successfully.\n",
      "         Current function value: 0.638554\n",
      "         Iterations 6\n",
      "Optimization terminated successfully.\n",
      "         Current function value: 0.639185\n",
      "         Iterations 6\n",
      "Optimization terminated successfully.\n",
      "         Current function value: 0.639046\n",
      "         Iterations 6\n",
      "Optimization terminated successfully.\n",
      "         Current function value: 0.638780\n",
      "         Iterations 6\n",
      "Optimization terminated successfully.\n",
      "         Current function value: 0.639253\n",
      "         Iterations 6\n",
      "Optimization terminated successfully.\n",
      "         Current function value: 0.639052\n",
      "         Iterations 6\n",
      "Optimization terminated successfully.\n",
      "         Current function value: 0.639190\n",
      "         Iterations 6\n"
     ]
    }
   ],
   "source": [
    "import os\n",
    "import subprocess\n",
    "import numpy as np\n",
    "from numpy.core.numeric import NaN\n",
    "import pandas as pd\n",
    "import glob\n",
    "import shutil\n",
    "from sklearn.preprocessing import MinMaxScaler\n",
    "import statsmodels.api as sm\n",
    "\n",
    "# Supress copy warning.\n",
    "\n",
    "pd.options.mode.chained_assignment = None\n",
    "\n",
    "from QC.utils import shell_do\n",
    "\n",
    "label = 'EUR'\n",
    "chrom = '1'\n",
    "cnv_type = 'PERCENT_L2R_DUPLICATION'\n",
    "dosagefile = f'{cnv_path}/CNV_{label}_chr{chrom}_{cnv_type}_gp2ids.csv'\n",
    "pheno = f'{cnv_path}/GP2_{label}_chr{chrom}_{cnv_type}.pheno'\n",
    "covar = f'{cnv_path}/GP2_round4_JAN_24_2023_{label}_clean.cov'\n",
    "out_path = f'{cnv_out_path}/GP2_{label}_chr{chrom}_{cnv_type}_cnvwas.tab'\n",
    "cnv_dosage_file = dosagefile\n",
    "\n",
    "\n",
    "\n",
    "\n",
    "\n",
    "scaler = MinMaxScaler()\n",
    "dosage_df = pd.read_csv(cnv_dosage_file)\n",
    "#fix column names\n",
    "dosage_df.columns = [x.replace('-','_') for x in dosage_df.columns]\n",
    "dosage_df.columns = [x.replace('.','_') for x in dosage_df.columns]\n",
    "dosage_df.columns = [x.replace(' ','_') for x in dosage_df.columns]\n",
    "\n",
    "pheno_df = pd.read_csv(pheno, sep='\\t')\n",
    "covar_df = pd.read_csv(covar, sep='\\t')\n",
    "\n",
    "\n",
    "if covar_df.age_of_onset.isna().all():\n",
    "    covar_df.drop(columns=['age_of_onset'], inplace=True)\n",
    "else:\n",
    "    covar_df.loc[:,'age_of_onset'] = scaler.fit_transform(covar_df[['age_of_onset']])\n",
    "\n",
    "if covar_df.age.isna().all():\n",
    "    covar_df.drop(columns=['age'], inplace=True)\n",
    "else:\n",
    "    covar_df.loc[:,'age'] = scaler.fit_transform(covar_df[['age']])\n",
    "\n",
    "if covar_df.sex.isna().all():\n",
    "    covar_df.drop(columns=['sex'], inplace=True)\n",
    "\n",
    "covar_df.drop(columns=['FID'], inplace=True)\n",
    "covar_df.rename(columns={'GP2sampleID':'sampleid'}, inplace=True)\n",
    "\n",
    "data_df = dosage_df.merge(covar_df, on='sampleid', how='left').merge(pheno_df, on='sampleid', how='left').set_index('sampleid')\n",
    "\n",
    "rm_pred = [f'PC{i}' for i in range(1,21)] + ['sex','age_of_onset','age','pheno']\n",
    "\n",
    "pred_list = [x for x in data_df.columns if x not in rm_pred]\n",
    "covars_list = [x for x in data_df.columns if x not in pred_list + [f'PC{i}' for i in range(11,21)] + ['pheno']]\n",
    "\n",
    "\n",
    "genes_list = dosage_df.columns.drop('sampleid')\n",
    "data_df_final = data_df.copy()\n",
    "ctrl_stds = data_df.loc[data_df['pheno']==0, genes_list].std()\n",
    "ctrl_means = data_df.loc[data_df['pheno']==0, genes_list].mean()\n",
    "\n",
    "for gene in genes_list:\n",
    "    lower = (ctrl_means[gene]-(ctrl_stds[gene]*2))\n",
    "    upper = (ctrl_means[gene]+(ctrl_stds[gene]*2))         \n",
    "    data_df_final.loc[:, gene] = data_df_final.loc[:, gene].between(lower, upper, inclusive='both')\n",
    "    \n",
    "data_df_final.loc[:, genes_list] = data_df_final.loc[:, genes_list].astype(int)\n",
    "\n",
    "results = []\n",
    "fails = []\n",
    "\n",
    "for pred in range(len(pred_list)):\n",
    "    pred_name = pred_list[pred]\n",
    "    formula = \"pheno ~ \" + pred_name + \" + \" + ' + '.join(covars_list)\n",
    "\n",
    "    fitted = sm.formula.glm(formula=formula, family=sm.families.Binomial(), data=data_df_final).fit()\n",
    "\n",
    "    beta_coef  = fitted.params.loc[pred_name]\n",
    "    beta_se  = fitted.bse.loc[pred_name]\n",
    "    p_val = fitted.pvalues.loc[pred_name]\n",
    "\n",
    "    results.append((pred_name, beta_coef, beta_se, p_val))\n",
    "\n",
    "\n",
    "output = pd.DataFrame(results, columns=('PREDICTOR', 'BETA_COEF', 'BETA_SE','P_VAL'))\n",
    "# output.to_csv(out_path, sep='\\t', header=True, index=False)\n",
    "    \n",
    "\n",
    "\n",
    "\n",
    "\n",
    "\n",
    "\n",
    "\n",
    "\n",
    "\n",
    "\n",
    "\n",
    "\n",
    "\n",
    "\n",
    "\n",
    "# def CNV_WAS(cnv_dosage_file, pheno, covar, out_path):\n",
    "#     scaler = MinMaxScaler()\n",
    "#     dosage_df = pd.read_csv(cnv_dosage_file)\n",
    "#     #fix column names\n",
    "#     dosage_df.columns = [x.replace('-','_') for x in dosage_df.columns]\n",
    "#     dosage_df.columns = [x.replace('.','_') for x in dosage_df.columns]\n",
    "#     dosage_df.columns = [x.replace(' ','_') for x in dosage_df.columns]\n",
    "\n",
    "#     pheno_df = pd.read_csv(pheno, sep='\\t')\n",
    "#     covar_df = pd.read_csv(covar, sep='\\t')\n",
    "\n",
    "\n",
    "#     if covar_df.age_of_onset.isna().all():\n",
    "#         covar_df.drop(columns=['age_of_onset'], inplace=True)\n",
    "#     else:\n",
    "#         covar_df.loc[:,'age_of_onset'] = scaler.fit_transform(covar_df[['age_of_onset']])\n",
    "\n",
    "#     if covar_df.age.isna().all():\n",
    "#         covar_df.drop(columns=['age'], inplace=True)\n",
    "#     else:\n",
    "#         covar_df.loc[:,'age'] = scaler.fit_transform(covar_df[['age']])\n",
    "\n",
    "#     if covar_df.sex.isna().all():\n",
    "#         covar_df.drop(columns=['sex'], inplace=True)\n",
    "\n",
    "#     covar_df.drop(columns=['FID'], inplace=True)\n",
    "#     covar_df.rename(columns={'GP2sampleID':'sampleid'}, inplace=True)\n",
    "\n",
    "#     data_df = dosage_df.merge(covar_df, on='sampleid', how='left').merge(pheno_df, on='sampleid', how='left').set_index('sampleid')\n",
    "\n",
    "#     rm_pred = [f'PC{i}' for i in range(1,21)] + ['sex','age_of_onset','age','pheno']\n",
    "\n",
    "#     pred_list = [x for x in data_df.columns if x not in rm_pred]\n",
    "#     covars_list = [x for x in data_df.columns if x not in pred_list + [f'PC{i}' for i in range(11,21)] + ['pheno']]\n",
    "\n",
    "\n",
    "#     genes_list = dosage_df.columns.drop('sampleid')\n",
    "#     data_df_final = data_df.copy()\n",
    "#     ctrl_stds = data_df.loc[data_df['pheno']==0, genes_list].std()\n",
    "#     ctrl_means = data_df.loc[data_df['pheno']==0, genes_list].mean()\n",
    "\n",
    "#     for gene in genes_list:\n",
    "#         lower = (ctrl_means[gene]-(ctrl_stds[gene]*2))\n",
    "#         upper = (ctrl_means[gene]+(ctrl_stds[gene]*2))         \n",
    "#         data_df_final.loc[:, gene] = data_df_final.loc[:, gene].between(lower, upper, inclusive='both')\n",
    "\n",
    "#     data_df_final.loc[:, genes_list] = data_df_final.loc[:, genes_list].astype(int)\n",
    "\n",
    "#     results = []\n",
    "#     fails = []\n",
    "\n",
    "#     for pred in range(len(pred_list)):\n",
    "#         pred_name = pred_list[pred]\n",
    "#         formula = \"pheno ~ \" + pred_name + \" + \" + ' + '.join(covars_list)\n",
    "\n",
    "#         fitted = sm.formula.glm(formula=formula, family=sm.families.Binomial(), data=data_df_final).fit()\n",
    "#         beta_coef  = fitted.params.loc[pred_name]\n",
    "#         beta_se  = fitted.bse.loc[pred_name]\n",
    "#         p_val = fitted.pvalues.loc[pred_name]\n",
    "\n",
    "#         results.append((pred_name, beta_coef, beta_se, p_val))\n",
    "\n",
    "\n",
    "#     output = pd.DataFrame(results, columns=('PREDICTOR', 'BETA_COEF', 'BETA_SE','P_VAL'))\n",
    "#     output.to_csv(out_path, sep='\\t', header=True, index=False)"
   ]
  },
  {
   "cell_type": "code",
   "execution_count": 65,
   "id": "9b025936-4e9c-4281-8f63-f3ee1a68ac49",
   "metadata": {},
   "outputs": [
    {
     "name": "stdout",
     "output_type": "stream",
     "text": [
      "\n",
      "RUNNING: lambda_calculation\n",
      "\n"
     ]
    },
    {
     "data": {
      "text/plain": [
       "{'pass': True,\n",
       " 'step': 'lambda_calculation',\n",
       " 'metrics': {'inflation': 1.4366622566944616}}"
      ]
     },
     "execution_count": 65,
     "metadata": {},
     "output_type": "execute_result"
    }
   ],
   "source": [
    "from GWAS.gwas import calculate_inflation\n",
    "# pheno_df = pd.read_csv(f'{cnv_path}/GP2_EUR_chr1_{cnv_type}.pheno', sep='\\t', engine='python')\n",
    "ncontrols = pheno_df.pheno.value_counts()[0]\n",
    "ncases = pheno_df.pheno.value_counts()[1]\n",
    "\n",
    "infl = calculate_inflation(output.P_VAL, normalize=True, ncases=ncases, ncontrols=ncontrols)\n",
    "infl\n"
   ]
  },
  {
   "cell_type": "code",
   "execution_count": 49,
   "id": "20016864-9700-45f7-9cc5-c9c07d995d62",
   "metadata": {},
   "outputs": [
    {
     "data": {
      "text/plain": [
       "'pheno ~ WDR64 + PC1 + PC2 + PC3 + PC4 + PC5 + PC6 + PC7 + PC8 + PC9 + PC10 + sex + age + age_of_onset'"
      ]
     },
     "execution_count": 49,
     "metadata": {},
     "output_type": "execute_result"
    }
   ],
   "source": [
    "formula"
   ]
  },
  {
   "cell_type": "code",
   "execution_count": 44,
   "id": "2b45610b-ad6e-4de8-a407-512f1e04503c",
   "metadata": {},
   "outputs": [
    {
     "data": {
      "text/html": [
       "<div>\n",
       "<style scoped>\n",
       "    .dataframe tbody tr th:only-of-type {\n",
       "        vertical-align: middle;\n",
       "    }\n",
       "\n",
       "    .dataframe tbody tr th {\n",
       "        vertical-align: top;\n",
       "    }\n",
       "\n",
       "    .dataframe thead th {\n",
       "        text-align: right;\n",
       "    }\n",
       "</style>\n",
       "<table border=\"1\" class=\"dataframe\">\n",
       "  <thead>\n",
       "    <tr style=\"text-align: right;\">\n",
       "      <th></th>\n",
       "      <th>ACTN2</th>\n",
       "      <th>AGTRAP</th>\n",
       "      <th>ARHGEF16</th>\n",
       "      <th>C1orf101</th>\n",
       "      <th>C1orf167</th>\n",
       "      <th>CAMTA1</th>\n",
       "      <th>CSMD2</th>\n",
       "      <th>DAB1</th>\n",
       "      <th>DRAXIN</th>\n",
       "      <th>EDARADD</th>\n",
       "      <th>...</th>\n",
       "      <th>PC15</th>\n",
       "      <th>PC16</th>\n",
       "      <th>PC17</th>\n",
       "      <th>PC18</th>\n",
       "      <th>PC19</th>\n",
       "      <th>PC20</th>\n",
       "      <th>sex</th>\n",
       "      <th>age</th>\n",
       "      <th>age_of_onset</th>\n",
       "      <th>pheno</th>\n",
       "    </tr>\n",
       "    <tr>\n",
       "      <th>sampleid</th>\n",
       "      <th></th>\n",
       "      <th></th>\n",
       "      <th></th>\n",
       "      <th></th>\n",
       "      <th></th>\n",
       "      <th></th>\n",
       "      <th></th>\n",
       "      <th></th>\n",
       "      <th></th>\n",
       "      <th></th>\n",
       "      <th></th>\n",
       "      <th></th>\n",
       "      <th></th>\n",
       "      <th></th>\n",
       "      <th></th>\n",
       "      <th></th>\n",
       "      <th></th>\n",
       "      <th></th>\n",
       "      <th></th>\n",
       "      <th></th>\n",
       "      <th></th>\n",
       "    </tr>\n",
       "  </thead>\n",
       "  <tbody>\n",
       "    <tr>\n",
       "      <th>CORIELL_000178_s1</th>\n",
       "      <td>1</td>\n",
       "      <td>1</td>\n",
       "      <td>1</td>\n",
       "      <td>1</td>\n",
       "      <td>1</td>\n",
       "      <td>1</td>\n",
       "      <td>1</td>\n",
       "      <td>1</td>\n",
       "      <td>1</td>\n",
       "      <td>1</td>\n",
       "      <td>...</td>\n",
       "      <td>-0.006651</td>\n",
       "      <td>0.009075</td>\n",
       "      <td>-0.007526</td>\n",
       "      <td>0.000607</td>\n",
       "      <td>-0.005277</td>\n",
       "      <td>0.016480</td>\n",
       "      <td>1</td>\n",
       "      <td>0.646341</td>\n",
       "      <td>0.600000</td>\n",
       "      <td>1</td>\n",
       "    </tr>\n",
       "    <tr>\n",
       "      <th>PAGE_000432_s1</th>\n",
       "      <td>1</td>\n",
       "      <td>1</td>\n",
       "      <td>1</td>\n",
       "      <td>1</td>\n",
       "      <td>1</td>\n",
       "      <td>1</td>\n",
       "      <td>0</td>\n",
       "      <td>0</td>\n",
       "      <td>1</td>\n",
       "      <td>1</td>\n",
       "      <td>...</td>\n",
       "      <td>-0.009945</td>\n",
       "      <td>0.006582</td>\n",
       "      <td>0.005732</td>\n",
       "      <td>-0.005267</td>\n",
       "      <td>-0.017189</td>\n",
       "      <td>-0.012584</td>\n",
       "      <td>1</td>\n",
       "      <td>0.767308</td>\n",
       "      <td>0.741228</td>\n",
       "      <td>1</td>\n",
       "    </tr>\n",
       "    <tr>\n",
       "      <th>CORIELL_000783_s1</th>\n",
       "      <td>1</td>\n",
       "      <td>1</td>\n",
       "      <td>1</td>\n",
       "      <td>1</td>\n",
       "      <td>1</td>\n",
       "      <td>1</td>\n",
       "      <td>1</td>\n",
       "      <td>1</td>\n",
       "      <td>1</td>\n",
       "      <td>1</td>\n",
       "      <td>...</td>\n",
       "      <td>0.001914</td>\n",
       "      <td>-0.002026</td>\n",
       "      <td>-0.007720</td>\n",
       "      <td>-0.002451</td>\n",
       "      <td>-0.003864</td>\n",
       "      <td>-0.006665</td>\n",
       "      <td>2</td>\n",
       "      <td>0.524390</td>\n",
       "      <td>0.578947</td>\n",
       "      <td>1</td>\n",
       "    </tr>\n",
       "    <tr>\n",
       "      <th>CORIELL_004856_s1</th>\n",
       "      <td>1</td>\n",
       "      <td>1</td>\n",
       "      <td>1</td>\n",
       "      <td>1</td>\n",
       "      <td>1</td>\n",
       "      <td>1</td>\n",
       "      <td>1</td>\n",
       "      <td>1</td>\n",
       "      <td>1</td>\n",
       "      <td>1</td>\n",
       "      <td>...</td>\n",
       "      <td>0.006815</td>\n",
       "      <td>-0.005230</td>\n",
       "      <td>-0.006799</td>\n",
       "      <td>0.006651</td>\n",
       "      <td>0.005691</td>\n",
       "      <td>-0.003396</td>\n",
       "      <td>1</td>\n",
       "      <td>0.621951</td>\n",
       "      <td>0.577225</td>\n",
       "      <td>0</td>\n",
       "    </tr>\n",
       "    <tr>\n",
       "      <th>COPN_000306_s1</th>\n",
       "      <td>1</td>\n",
       "      <td>1</td>\n",
       "      <td>1</td>\n",
       "      <td>1</td>\n",
       "      <td>1</td>\n",
       "      <td>1</td>\n",
       "      <td>1</td>\n",
       "      <td>1</td>\n",
       "      <td>1</td>\n",
       "      <td>1</td>\n",
       "      <td>...</td>\n",
       "      <td>0.004314</td>\n",
       "      <td>0.003814</td>\n",
       "      <td>0.000499</td>\n",
       "      <td>0.010819</td>\n",
       "      <td>0.001542</td>\n",
       "      <td>0.018862</td>\n",
       "      <td>1</td>\n",
       "      <td>0.548780</td>\n",
       "      <td>0.577225</td>\n",
       "      <td>1</td>\n",
       "    </tr>\n",
       "    <tr>\n",
       "      <th>...</th>\n",
       "      <td>...</td>\n",
       "      <td>...</td>\n",
       "      <td>...</td>\n",
       "      <td>...</td>\n",
       "      <td>...</td>\n",
       "      <td>...</td>\n",
       "      <td>...</td>\n",
       "      <td>...</td>\n",
       "      <td>...</td>\n",
       "      <td>...</td>\n",
       "      <td>...</td>\n",
       "      <td>...</td>\n",
       "      <td>...</td>\n",
       "      <td>...</td>\n",
       "      <td>...</td>\n",
       "      <td>...</td>\n",
       "      <td>...</td>\n",
       "      <td>...</td>\n",
       "      <td>...</td>\n",
       "      <td>...</td>\n",
       "      <td>...</td>\n",
       "    </tr>\n",
       "    <tr>\n",
       "      <th>PAGE_001054_s1</th>\n",
       "      <td>1</td>\n",
       "      <td>1</td>\n",
       "      <td>1</td>\n",
       "      <td>1</td>\n",
       "      <td>1</td>\n",
       "      <td>1</td>\n",
       "      <td>1</td>\n",
       "      <td>1</td>\n",
       "      <td>1</td>\n",
       "      <td>1</td>\n",
       "      <td>...</td>\n",
       "      <td>-0.008115</td>\n",
       "      <td>-0.003489</td>\n",
       "      <td>0.001157</td>\n",
       "      <td>-0.002412</td>\n",
       "      <td>-0.000864</td>\n",
       "      <td>-0.004991</td>\n",
       "      <td>1</td>\n",
       "      <td>0.722300</td>\n",
       "      <td>0.653509</td>\n",
       "      <td>1</td>\n",
       "    </tr>\n",
       "    <tr>\n",
       "      <th>LCC_000146_s1</th>\n",
       "      <td>1</td>\n",
       "      <td>1</td>\n",
       "      <td>1</td>\n",
       "      <td>1</td>\n",
       "      <td>1</td>\n",
       "      <td>1</td>\n",
       "      <td>1</td>\n",
       "      <td>1</td>\n",
       "      <td>1</td>\n",
       "      <td>1</td>\n",
       "      <td>...</td>\n",
       "      <td>0.008954</td>\n",
       "      <td>-0.009757</td>\n",
       "      <td>0.003442</td>\n",
       "      <td>-0.000514</td>\n",
       "      <td>-0.001066</td>\n",
       "      <td>-0.003567</td>\n",
       "      <td>1</td>\n",
       "      <td>0.548780</td>\n",
       "      <td>0.577225</td>\n",
       "      <td>0</td>\n",
       "    </tr>\n",
       "    <tr>\n",
       "      <th>CORIELL_002459_s1</th>\n",
       "      <td>1</td>\n",
       "      <td>1</td>\n",
       "      <td>1</td>\n",
       "      <td>1</td>\n",
       "      <td>1</td>\n",
       "      <td>1</td>\n",
       "      <td>1</td>\n",
       "      <td>1</td>\n",
       "      <td>1</td>\n",
       "      <td>1</td>\n",
       "      <td>...</td>\n",
       "      <td>0.001957</td>\n",
       "      <td>0.003340</td>\n",
       "      <td>0.000891</td>\n",
       "      <td>-0.007043</td>\n",
       "      <td>-0.000739</td>\n",
       "      <td>0.000489</td>\n",
       "      <td>1</td>\n",
       "      <td>0.536585</td>\n",
       "      <td>0.484211</td>\n",
       "      <td>1</td>\n",
       "    </tr>\n",
       "    <tr>\n",
       "      <th>BCM_000036_s1</th>\n",
       "      <td>1</td>\n",
       "      <td>1</td>\n",
       "      <td>1</td>\n",
       "      <td>1</td>\n",
       "      <td>1</td>\n",
       "      <td>1</td>\n",
       "      <td>1</td>\n",
       "      <td>1</td>\n",
       "      <td>1</td>\n",
       "      <td>1</td>\n",
       "      <td>...</td>\n",
       "      <td>-0.006514</td>\n",
       "      <td>-0.008966</td>\n",
       "      <td>-0.010393</td>\n",
       "      <td>-0.007601</td>\n",
       "      <td>0.000784</td>\n",
       "      <td>-0.014942</td>\n",
       "      <td>2</td>\n",
       "      <td>0.571582</td>\n",
       "      <td>0.577225</td>\n",
       "      <td>1</td>\n",
       "    </tr>\n",
       "    <tr>\n",
       "      <th>CORIELL_001134_s1</th>\n",
       "      <td>1</td>\n",
       "      <td>1</td>\n",
       "      <td>0</td>\n",
       "      <td>1</td>\n",
       "      <td>1</td>\n",
       "      <td>1</td>\n",
       "      <td>0</td>\n",
       "      <td>1</td>\n",
       "      <td>1</td>\n",
       "      <td>1</td>\n",
       "      <td>...</td>\n",
       "      <td>0.006826</td>\n",
       "      <td>0.008794</td>\n",
       "      <td>-0.007286</td>\n",
       "      <td>0.005986</td>\n",
       "      <td>-0.005052</td>\n",
       "      <td>-0.010628</td>\n",
       "      <td>1</td>\n",
       "      <td>0.304878</td>\n",
       "      <td>0.378947</td>\n",
       "      <td>1</td>\n",
       "    </tr>\n",
       "  </tbody>\n",
       "</table>\n",
       "<p>12436 rows × 61 columns</p>\n",
       "</div>"
      ],
      "text/plain": [
       "                   ACTN2  AGTRAP  ARHGEF16  C1orf101  C1orf167  CAMTA1  CSMD2  \\\n",
       "sampleid                                                                        \n",
       "CORIELL_000178_s1      1       1         1         1         1       1      1   \n",
       "PAGE_000432_s1         1       1         1         1         1       1      0   \n",
       "CORIELL_000783_s1      1       1         1         1         1       1      1   \n",
       "CORIELL_004856_s1      1       1         1         1         1       1      1   \n",
       "COPN_000306_s1         1       1         1         1         1       1      1   \n",
       "...                  ...     ...       ...       ...       ...     ...    ...   \n",
       "PAGE_001054_s1         1       1         1         1         1       1      1   \n",
       "LCC_000146_s1          1       1         1         1         1       1      1   \n",
       "CORIELL_002459_s1      1       1         1         1         1       1      1   \n",
       "BCM_000036_s1          1       1         1         1         1       1      1   \n",
       "CORIELL_001134_s1      1       1         0         1         1       1      0   \n",
       "\n",
       "                   DAB1  DRAXIN  EDARADD  ...      PC15      PC16      PC17  \\\n",
       "sampleid                                  ...                                 \n",
       "CORIELL_000178_s1     1       1        1  ... -0.006651  0.009075 -0.007526   \n",
       "PAGE_000432_s1        0       1        1  ... -0.009945  0.006582  0.005732   \n",
       "CORIELL_000783_s1     1       1        1  ...  0.001914 -0.002026 -0.007720   \n",
       "CORIELL_004856_s1     1       1        1  ...  0.006815 -0.005230 -0.006799   \n",
       "COPN_000306_s1        1       1        1  ...  0.004314  0.003814  0.000499   \n",
       "...                 ...     ...      ...  ...       ...       ...       ...   \n",
       "PAGE_001054_s1        1       1        1  ... -0.008115 -0.003489  0.001157   \n",
       "LCC_000146_s1         1       1        1  ...  0.008954 -0.009757  0.003442   \n",
       "CORIELL_002459_s1     1       1        1  ...  0.001957  0.003340  0.000891   \n",
       "BCM_000036_s1         1       1        1  ... -0.006514 -0.008966 -0.010393   \n",
       "CORIELL_001134_s1     1       1        1  ...  0.006826  0.008794 -0.007286   \n",
       "\n",
       "                       PC18      PC19      PC20  sex       age  age_of_onset  \\\n",
       "sampleid                                                                       \n",
       "CORIELL_000178_s1  0.000607 -0.005277  0.016480    1  0.646341      0.600000   \n",
       "PAGE_000432_s1    -0.005267 -0.017189 -0.012584    1  0.767308      0.741228   \n",
       "CORIELL_000783_s1 -0.002451 -0.003864 -0.006665    2  0.524390      0.578947   \n",
       "CORIELL_004856_s1  0.006651  0.005691 -0.003396    1  0.621951      0.577225   \n",
       "COPN_000306_s1     0.010819  0.001542  0.018862    1  0.548780      0.577225   \n",
       "...                     ...       ...       ...  ...       ...           ...   \n",
       "PAGE_001054_s1    -0.002412 -0.000864 -0.004991    1  0.722300      0.653509   \n",
       "LCC_000146_s1     -0.000514 -0.001066 -0.003567    1  0.548780      0.577225   \n",
       "CORIELL_002459_s1 -0.007043 -0.000739  0.000489    1  0.536585      0.484211   \n",
       "BCM_000036_s1     -0.007601  0.000784 -0.014942    2  0.571582      0.577225   \n",
       "CORIELL_001134_s1  0.005986 -0.005052 -0.010628    1  0.304878      0.378947   \n",
       "\n",
       "                   pheno  \n",
       "sampleid                  \n",
       "CORIELL_000178_s1      1  \n",
       "PAGE_000432_s1         1  \n",
       "CORIELL_000783_s1      1  \n",
       "CORIELL_004856_s1      0  \n",
       "COPN_000306_s1         1  \n",
       "...                  ...  \n",
       "PAGE_001054_s1         1  \n",
       "LCC_000146_s1          0  \n",
       "CORIELL_002459_s1      1  \n",
       "BCM_000036_s1          1  \n",
       "CORIELL_001134_s1      1  \n",
       "\n",
       "[12436 rows x 61 columns]"
      ]
     },
     "execution_count": 44,
     "metadata": {},
     "output_type": "execute_result"
    }
   ],
   "source": [
    "\n",
    "data_df_final"
   ]
  },
  {
   "cell_type": "code",
   "execution_count": null,
   "id": "0d5d2df9-3901-4321-8672-2d427082e1ef",
   "metadata": {},
   "outputs": [],
   "source": []
  },
  {
   "cell_type": "code",
   "execution_count": null,
   "id": "41dda188-496d-4149-887d-990acff9b742",
   "metadata": {},
   "outputs": [],
   "source": []
  },
  {
   "cell_type": "code",
   "execution_count": null,
   "id": "1f4b0d49-c3a2-42b8-9156-9172bc4aadf6",
   "metadata": {},
   "outputs": [],
   "source": []
  },
  {
   "cell_type": "code",
   "execution_count": null,
   "id": "41cb69b5-c464-4cc4-be12-d8e1704e84d4",
   "metadata": {},
   "outputs": [],
   "source": []
  },
  {
   "cell_type": "code",
   "execution_count": 13,
   "id": "6081e4d8-a887-412f-98b2-77240260d7b8",
   "metadata": {},
   "outputs": [],
   "source": [
    "# output final release samples\n",
    "cnv_out_path = '/data/CARD/PD/GP2/genotypes/GP2/round3/GP2_cnvs'\n",
    "release3_samples = '/data/CARD/PD/GP2/genotypes/GP2/round3/clean/release3.samples'\n",
    "release_key_final = pd.read_csv('/data/CARD/PD/GP2/genotypes/GP2/round3/clean/release3_master_key.csv')\n",
    "release_key_out = release_key_final.loc[release_key_final.pheno!=-9]\n",
    "release_key_out['GP2sampleID'].to_csv(release3_samples, index=False, header=False)"
   ]
  },
  {
   "cell_type": "code",
   "execution_count": 20,
   "id": "82dc85bb-6d29-405e-bed6-efab5c1cc434",
   "metadata": {},
   "outputs": [],
   "source": [
    "with open(f'{swarm_scripts_dir}/cnv_dosage_release_split.swarm', 'w') as f:\n",
    "    for label in ancestry_labels:\n",
    "        sample_file = f'/data/CARD/PD/GP2/genotypes/GP2/round3/clean/{label}_release3.samples'\n",
    "        label_samples = release_key_final.loc[release_key_final['label']==label]\n",
    "        label_samples['GP2sampleID'].to_csv(sample_file, header=False, index=False)\n",
    "\n",
    "        for cnv_type in cnv_types:\n",
    "            for chrom in chroms:\n",
    "                \n",
    "                dosagefile = f'{cnv_path}/CNV_{label}_chr{chrom}_{cnv_type}_gp2ids.csv'\n",
    "                dosage_out = f'{cnv_out_path}/CNV_{label}_chr{chrom}_{cnv_type}_release3.csv'\n",
    "                \n",
    "                cmd = f'\\\n",
    "python split_release_samples.py \\\n",
    "--cnv_dosage_file {dosagefile} \\\n",
    "--samples {sample_file} \\\n",
    "--out_path {dosage_out}'\n",
    "            \n",
    "                f.write(f'{cmd}\\n')\n",
    "f.close()\n"
   ]
  },
  {
   "cell_type": "code",
   "execution_count": 21,
   "id": "56353619-d819-4347-ab81-aec8d05de647",
   "metadata": {},
   "outputs": [
    {
     "name": "stdout",
     "output_type": "stream",
     "text": [
      "53715605\n"
     ]
    }
   ],
   "source": [
    "!swarm -f {swarm_scripts_dir}/cnv_dosage_release_split.swarm -g 8 -t 8 --time=00:30:00 --logdir {swarm_scripts_dir}/logs --gres=lscratch:20 --partition=norm"
   ]
  },
  {
   "cell_type": "code",
   "execution_count": 14,
   "id": "64f9b5b4-92c2-430c-a9ec-b09aae6aab6b",
   "metadata": {
    "tags": []
   },
   "outputs": [
    {
     "name": "stdout",
     "output_type": "stream",
     "text": [
      "AMR PERCENT_BAF_INSERTION\n",
      "412\n",
      "\n",
      "AMR PERCENT_L2R_DELETION\n",
      "412\n",
      "\n",
      "AMR PERCENT_L2R_DUPLICATION\n",
      "412\n",
      "\n",
      "EUR PERCENT_BAF_INSERTION\n",
      "10727\n",
      "\n",
      "EUR PERCENT_L2R_DELETION\n",
      "10727\n",
      "\n",
      "EUR PERCENT_L2R_DUPLICATION\n",
      "10727\n",
      "\n",
      "SAS PERCENT_BAF_INSERTION\n",
      "59\n",
      "\n",
      "SAS PERCENT_L2R_DELETION\n",
      "59\n",
      "\n",
      "SAS PERCENT_L2R_DUPLICATION\n",
      "59\n",
      "\n",
      "MDE PERCENT_BAF_INSERTION\n",
      "62\n",
      "\n",
      "MDE PERCENT_L2R_DELETION\n",
      "62\n",
      "\n",
      "MDE PERCENT_L2R_DUPLICATION\n",
      "62\n",
      "\n",
      "EAS PERCENT_BAF_INSERTION\n",
      "137\n",
      "\n",
      "EAS PERCENT_L2R_DELETION\n",
      "137\n",
      "\n",
      "EAS PERCENT_L2R_DUPLICATION\n",
      "137\n",
      "\n",
      "AAC PERCENT_BAF_INSERTION\n",
      "1215\n",
      "\n",
      "AAC PERCENT_L2R_DELETION\n",
      "1215\n",
      "\n",
      "AAC PERCENT_L2R_DUPLICATION\n",
      "1215\n",
      "\n",
      "AFR PERCENT_BAF_INSERTION\n",
      "404\n",
      "\n",
      "AFR PERCENT_L2R_DELETION\n",
      "404\n",
      "\n",
      "AFR PERCENT_L2R_DUPLICATION\n",
      "404\n",
      "\n",
      "CAS PERCENT_BAF_INSERTION\n",
      "303\n",
      "\n",
      "CAS PERCENT_L2R_DELETION\n",
      "303\n",
      "\n",
      "CAS PERCENT_L2R_DUPLICATION\n",
      "303\n",
      "\n",
      "AJ PERCENT_BAF_INSERTION\n",
      "923\n",
      "\n",
      "AJ PERCENT_L2R_DELETION\n",
      "923\n",
      "\n",
      "AJ PERCENT_L2R_DUPLICATION\n",
      "923\n",
      "\n"
     ]
    }
   ],
   "source": [
    "# CHECK COUNTS\n",
    "total_dosages = 0\n",
    "for label in ancestry_labels:\n",
    "    for cnv_type in cnv_types:\n",
    "        dosage_out = f'{cnv_out_path}/CNV_{label}_chr1_{cnv_type}_release3.csv'\n",
    "        print(label, cnv_type)\n",
    "        label_count = !cat {dosage_out} | wc -l\n",
    "        label_count = int(label_count[0])\n",
    "        total_dosages += label_count\n",
    "        print(label_count)\n",
    "        print()"
   ]
  },
  {
   "cell_type": "code",
   "execution_count": 22,
   "id": "3df93e96-b169-4e45-ad32-76904be6cf22",
   "metadata": {},
   "outputs": [],
   "source": [
    "# push to release bucket\n",
    "with open(f'{swarm_scripts_dir}/gcp_push_cnvs.swarm','w') as f:\n",
    "    \n",
    "    for label in ancestry_labels:\n",
    "        for chrom in chroms:\n",
    "    \n",
    "#         !module load google-cloud-sdk/397.0.0; gsutil cp {cnv_out_path}/CNV_{label}_BAF_INSERTION_release3.csv gs://gp2tier2/release3_31102022/cnvs/{label}/\n",
    "            cp1 = f'gsutil cp {cnv_out_path}/CNV_{label}_chr{chrom}_PERCENT_BAF_INSERTION_release3.csv gs://gp2tier2/release3_31102022/cnvs/{label}/'\n",
    "            cp2 = f'gsutil cp {cnv_out_path}/CNV_{label}_chr{chrom}_PERCENT_L2R_DELETION_release3.csv gs://gp2tier2/release3_31102022/cnvs/{label}/'\n",
    "            cp3 = f'gsutil cp {cnv_out_path}/CNV_{label}_chr{chrom}_PERCENT_L2R_DUPLICATION_release3.csv gs://gp2tier2/release3_31102022/cnvs/{label}/'\n",
    "\n",
    "            cps = [cp1, cp2, cp3]\n",
    "\n",
    "            for cp in cps:\n",
    "                f.write(f'{cp}\\n')\n",
    "f.close()"
   ]
  },
  {
   "cell_type": "code",
   "execution_count": 23,
   "id": "ddb097af-919f-41f3-a434-2b624c4dbde4",
   "metadata": {},
   "outputs": [
    {
     "name": "stdout",
     "output_type": "stream",
     "text": [
      "53719849\n"
     ]
    }
   ],
   "source": [
    "!swarm -f {swarm_scripts_dir}/gcp_push_cnvs.swarm -g 8 -t 8 --time=00:30:00 --logdir {swarm_scripts_dir}/logs --module google-cloud-sdk/397.0.0 --gres=lscratch:20 --partition=norm"
   ]
  },
  {
   "cell_type": "code",
   "execution_count": 24,
   "id": "70c7c14a-cb24-4e02-961f-f4fb69834166",
   "metadata": {},
   "outputs": [
    {
     "name": "stdout",
     "output_type": "stream",
     "text": [
      "594\n"
     ]
    }
   ],
   "source": [
    "!module load google-cloud-sdk/397.0.0; gsutil cp /data/CARD/PD/GP2/genotypes/GP2/round3/GP2_cnvs/CNV_AMR_chr1_BAF_INSERTION_release3.csv gs://gp2tier2/release3_31102022/cnvs/AMR/"
   ]
  },
  {
   "cell_type": "code",
   "execution_count": 24,
   "id": "2a133f0b-dc2b-4bce-91d5-5040ca024786",
   "metadata": {},
   "outputs": [
    {
     "name": "stdout",
     "output_type": "stream",
     "text": [
      "-rw-rw----+ 1 vitaled2 CARD 4.2K Dec  5 19:27 /data/CARD/PD/GP2/genotypes/GP2/round3/GP2_cnvs/CNV_AJ_chr22_PERCENT_BAF_INSERTION_release3.csv\n"
     ]
    }
   ],
   "source": [
    "!ls -lh {cnv_out_path}/CNV_{label}_chr{chrom}_PERCENT_BAF_INSERTION_release3.csv"
   ]
  },
  {
   "cell_type": "code",
   "execution_count": 15,
   "id": "e4aa47ba",
   "metadata": {},
   "outputs": [
    {
     "name": "stdout",
     "output_type": "stream",
     "text": [
      "11696\n"
     ]
    }
   ],
   "source": [
    "!cat /data/CARD/PD/GP2/raw_genotypes/GP2_cnvs/release3/CNV_EUR_chr1_PERCENT_BAF_INSERTION_gp2ids.csv | wc -l"
   ]
  },
  {
   "cell_type": "code",
   "execution_count": null,
   "id": "6951e7ee-bbc6-412f-8e18-921bd5c37b9a",
   "metadata": {},
   "outputs": [],
   "source": []
  },
  {
   "cell_type": "code",
   "execution_count": null,
   "id": "93cea6d2-bf8f-4ad4-841a-7689d75fc5c5",
   "metadata": {},
   "outputs": [],
   "source": []
  },
  {
   "cell_type": "code",
   "execution_count": null,
   "id": "16b30b49-d588-442c-bec0-b8613fbb2089",
   "metadata": {},
   "outputs": [],
   "source": []
  },
  {
   "cell_type": "code",
   "execution_count": null,
   "id": "ae39c1ad-f5e6-4c4b-85da-ea425681c9f7",
   "metadata": {},
   "outputs": [],
   "source": [
    "{cnv_path}/genotypes/"
   ]
  }
 ],
 "metadata": {
  "kernelspec": {
   "display_name": "python/3.8",
   "language": "python",
   "name": "py3.8"
  },
  "language_info": {
   "codemirror_mode": {
    "name": "ipython",
    "version": 3
   },
   "file_extension": ".py",
   "mimetype": "text/x-python",
   "name": "python",
   "nbconvert_exporter": "python",
   "pygments_lexer": "ipython3",
   "version": "3.8.12"
  },
  "vscode": {
   "interpreter": {
    "hash": "aee8b7b246df8f9039afb4144a1f6fd8d2ca17a180786b69acc140d282b71a49"
   }
  }
 },
 "nbformat": 4,
 "nbformat_minor": 5
}
