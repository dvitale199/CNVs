{
 "cells": [
  {
   "cell_type": "markdown",
   "id": "8948292e-a3f5-44cd-b316-653de013ad61",
   "metadata": {},
   "source": [
    "# GP2 CNVs Pipeline\n",
    "\n",
    "steps:\n",
    "1. call snp metrics from idats- write to parquets partitioned on Sample_ID\n",
    "2. run qc on snps from corresponding genotypes\n",
    "3. call cnvs from snp metrics using snps that passed qc in step 2\n",
    "4. "
   ]
  },
  {
   "cell_type": "code",
   "execution_count": 1,
   "id": "163da59f-cf9c-4665-8221-8524f6a364e8",
   "metadata": {
    "tags": []
   },
   "outputs": [
    {
     "name": "stdout",
     "output_type": "stream",
     "text": [
      "Plink is found\n",
      "Plink2 is found\n"
     ]
    }
   ],
   "source": [
    "import pandas as pd\n",
    "import os\n",
    "import shutil\n",
    "import numpy as np\n",
    "import glob\n",
    "from sklearn.preprocessing import MinMaxScaler\n",
    "import statsmodels.api as sm\n",
    "\n",
    "from QC.utils import shell_do"
   ]
  },
  {
   "cell_type": "code",
   "execution_count": 2,
   "id": "ac49c984-53cf-4aca-9b10-2c20e1321d8d",
   "metadata": {
    "tags": []
   },
   "outputs": [],
   "source": [
    "############ SET THIS EVERY RELEASE ############\n",
    "release = '5'\n",
    "\n",
    "key_file = f'/data/GP2/clinical/master_key/GP2_master_key_FINAL_release5_n26728.txt'\n",
    "key = pd.read_csv(f'{key_file}')\n",
    "key.loc[:,'IID'] = key.loc[:,'SentrixBarcode_A'].astype(str) + '_' + key.loc[:,'SentrixPosition_A'].astype(str)\n",
    "key.loc[:,'FID'] = \"0\"\n",
    "\n",
    "\n",
    "idat_path = '/data/GP2/raw_genotypes/idats/'\n",
    "swarm_scripts_dir = f'/data/GP2/users/vitaled2/swarm'\n",
    "\n",
    "ilmn_files_path = '/data/GP2/utils/ilmn_files'\n",
    "# A1 is hg19, A2 is hg38. csv needed for indel calls\n",
    "bpm_csv = f'{ilmn_files_path}/NeuroBooster_20042459_A2.csv' \n",
    "bpm = f'{ilmn_files_path}/NeuroBooster_20042459_A2.bpm'\n",
    "egt = f'{ilmn_files_path}/recluster_09272022.egt'\n",
    "iaap = f'{ilmn_files_path}/iaap-cli/iaap-cli'\n",
    "\n",
    "ref_fasta = '/data/vitaled2/ref/GRCh38/GCA_000001405.15_GRCh38_no_alt_analysis_set.fna'\n",
    "\n",
    "chroms = [str(i) for i in range(1,23)] + ['X','Y','M']\n",
    "\n",
    "samples_list = key.loc[:,'filename'].unique()\n",
    "barcodes_list = list(set([x.split('_')[0] for x in samples_list]))\n",
    "\n",
    "\n",
    "raw_geno_path = '/data/GP2/raw_genotypes'\n",
    "snp_metrics_path = f'{raw_geno_path}/snp_metrics'\n",
    "idat_path = f'{raw_geno_path}/idats'\n",
    "plink_file_path = f'{raw_geno_path}/ped_bed'\n",
    "\n",
    "\n",
    "cnv_path = f'/data/GP2/raw_genotypes/cnvs/release{release}'\n",
    "covar_path = f'{cnv_path}/key/release{release}_covar.csv'\n",
    "# using just autosomes for CNV analysis due to call quality\n",
    "chroms = [str(i) for i in range(1,23)]\n",
    "\n",
    "ancestry_labels = [x.split('/')[-1].replace('.bed','').split('_')[-1] for x in glob.glob(f'/data/GP2/quality_control/release{release}/genotype_qc/GP2_round5_APRIL_2023_*.bed') if '_maf_hwe' not in x]\n",
    "\n",
    "key[['FID','GP2sampleID']].to_csv(f'{cnv_path}/key/release{release}.samples', sep='\\t', header=False, index=False)\n",
    "key[['GP2sampleID','IID']].to_csv(f'{cnv_path}/key/release{release}_sample_id_key.csv')\n",
    "release_covars = key.loc[:,['FID', 'GP2sampleID','sex_for_qc', 'age', 'age_of_onset']]\n",
    "release_covars.to_csv(covar_path)\n",
    "\n",
    "cnv_types = ['PERCENT_BAF_INSERTION','PERCENT_L2R_DELETION','PERCENT_L2R_DUPLICATION']"
   ]
  },
  {
   "cell_type": "code",
   "execution_count": 5,
   "id": "d146821f-30ff-496e-a9ad-bd2e1b90ac08",
   "metadata": {},
   "outputs": [],
   "source": [
    "# get snp metrics\n",
    "metrics_exist_list = []\n",
    "bcftools_plugins_path = 'bin'\n",
    "with open(f'{swarm_scripts_dir}/snp_metrics.swarm', 'w') as f:\n",
    "    for code in barcodes_list:\n",
    "        idat_path_ = f'{idat_path}/{code}'\n",
    "        metrics_out = f'{snp_metrics_path}'\n",
    "        # metrics_code_path = f'{snp_metrics_path}/{code}'\n",
    "        cmd = f'\\\n",
    "python run_snp_metrics_pipeline.py \\\n",
    "--idat_path {idat_path_} \\\n",
    "--bpm {bpm} \\\n",
    "--bpm_csv {bpm_csv} \\\n",
    "--egt {egt} \\\n",
    "--ref_fasta {ref_fasta} \\\n",
    "--out_path {metrics_out} \\\n",
    "--iaap {iaap} \\\n",
    "--bcftools_plugins_path {bcftools_plugins_path}'\n",
    "        f.write(f'{cmd}\\n')\n",
    "f.close()\n"
   ]
  },
  {
   "cell_type": "code",
   "execution_count": 7,
   "id": "117e910d-509a-4ff5-af24-e5f3d07da1fe",
   "metadata": {},
   "outputs": [
    {
     "name": "stdout",
     "output_type": "stream",
     "text": [
      "64432484\n"
     ]
    }
   ],
   "source": [
    "!swarm -f {swarm_scripts_dir}/snp_metrics.swarm -g 64 -t 16 --time=04:00:00 --logdir {swarm_scripts_dir}/logs --gres=lscratch:20 --partition=norm"
   ]
  },
  {
   "cell_type": "code",
   "execution_count": 5,
   "id": "1f2ab215-4774-429d-af1f-a56ee02cad17",
   "metadata": {},
   "outputs": [
    {
     "name": "stdout",
     "output_type": "stream",
     "text": [
      "Sample_ID=206046190071_R01C01  Sample_ID=206046190071_R02C01\n"
     ]
    }
   ],
   "source": [
    "!ls /data/GP2/raw_genotypes/snp_metrics/206046190071/snp_metrics_206046190071.parquet"
   ]
  },
  {
   "cell_type": "code",
   "execution_count": 6,
   "id": "a63c4a2e-b1c6-4cd0-a72d-cd99f60f1106",
   "metadata": {},
   "outputs": [
    {
     "name": "stdout",
     "output_type": "stream",
     "text": [
      "metrics exist: 26578\n",
      "missing metrics: 150\n"
     ]
    }
   ],
   "source": [
    "exist_dir = []\n",
    "missing_dir = []\n",
    "\n",
    "for sample in samples_list:\n",
    "# for sample in ['206412060174_R07C01']:\n",
    "    code = sample.split('_')[0]\n",
    "    metrics_file = f'/data/GP2/raw_genotypes/snp_metrics/{code}/snp_metrics_{code}.parquet/Sample_ID={sample}'\n",
    "    \n",
    "    if os.path.isdir(metrics_file):\n",
    "        exist_dir.append(sample)\n",
    "    else:\n",
    "        missing_dir.append(sample)\n",
    "        \n",
    "print(f'metrics exist: {len(exist_dir)}')\n",
    "print(f'missing metrics: {len(missing_dir)}')"
   ]
  },
  {
   "cell_type": "code",
   "execution_count": 7,
   "id": "bcd9284a-4a05-46d9-892e-6bda06354195",
   "metadata": {},
   "outputs": [],
   "source": [
    "# now check if we have idats for missing snp metrics\n",
    "missing_idats = []\n",
    "exists_idats = []\n",
    "for sample in missing_metrics:\n",
    "    code = sample.split('_')[0]\n",
    "    grn = f'{idat_path}/{code}/{sample}_Grn.idat'\n",
    "    red = f'{idat_path}/{code}/{sample}_Red.idat'\n",
    "    if os.path.isfile(grn) & os.path.isfile(red):\n",
    "        exists_idats.append(sample)\n",
    "    else:\n",
    "        missing_idats.append(sample)"
   ]
  },
  {
   "cell_type": "code",
   "execution_count": 8,
   "id": "cc859aa9-0359-427f-ae76-0f0fb2a4596e",
   "metadata": {},
   "outputs": [
    {
     "name": "stdout",
     "output_type": "stream",
     "text": [
      "93\n",
      "57\n"
     ]
    }
   ],
   "source": [
    "print(len(missing_idats))\n",
    "print(len(exists_idats))"
   ]
  },
  {
   "cell_type": "code",
   "execution_count": 13,
   "id": "eb84cf01-270c-429f-8758-d700fe19740a",
   "metadata": {},
   "outputs": [
    {
     "name": "stdout",
     "output_type": "stream",
     "text": [
      "python run_cnv_qc_pipeline.py --geno_path /data/GP2/quality_control/release5/genotype_qc/GP2_round5_APRIL_2023_FIN --out_path /data/GP2/raw_genotypes/cnvs/release5/genotypes/GP2_round5_APRIL_2023_FIN_clean --covar_path /data/GP2/raw_genotypes/cnvs/release5/key/release5_covar.csv --maf 0.01 --geno 0.2 --hwe 5e-6 --indep_pairwise 1000 10 0.01 --samples_path /data/GP2/raw_genotypes/cnvs/release5/key/release5.samples\n",
      "python run_cnv_qc_pipeline.py --geno_path /data/GP2/quality_control/release5/genotype_qc/GP2_round5_APRIL_2023_EUR --out_path /data/GP2/raw_genotypes/cnvs/release5/genotypes/GP2_round5_APRIL_2023_EUR_clean --covar_path /data/GP2/raw_genotypes/cnvs/release5/key/release5_covar.csv --maf 0.01 --geno 0.2 --hwe 5e-6 --indep_pairwise 1000 10 0.01 --samples_path /data/GP2/raw_genotypes/cnvs/release5/key/release5.samples\n",
      "python run_cnv_qc_pipeline.py --geno_path /data/GP2/quality_control/release5/genotype_qc/GP2_round5_APRIL_2023_EAS --out_path /data/GP2/raw_genotypes/cnvs/release5/genotypes/GP2_round5_APRIL_2023_EAS_clean --covar_path /data/GP2/raw_genotypes/cnvs/release5/key/release5_covar.csv --maf 0.01 --geno 0.2 --hwe 5e-6 --indep_pairwise 1000 10 0.01 --samples_path /data/GP2/raw_genotypes/cnvs/release5/key/release5.samples\n",
      "python run_cnv_qc_pipeline.py --geno_path /data/GP2/quality_control/release5/genotype_qc/GP2_round5_APRIL_2023_AAC --out_path /data/GP2/raw_genotypes/cnvs/release5/genotypes/GP2_round5_APRIL_2023_AAC_clean --covar_path /data/GP2/raw_genotypes/cnvs/release5/key/release5_covar.csv --maf 0.01 --geno 0.2 --hwe 5e-6 --indep_pairwise 1000 10 0.01 --samples_path /data/GP2/raw_genotypes/cnvs/release5/key/release5.samples\n",
      "python run_cnv_qc_pipeline.py --geno_path /data/GP2/quality_control/release5/genotype_qc/GP2_round5_APRIL_2023_AJ --out_path /data/GP2/raw_genotypes/cnvs/release5/genotypes/GP2_round5_APRIL_2023_AJ_clean --covar_path /data/GP2/raw_genotypes/cnvs/release5/key/release5_covar.csv --maf 0.01 --geno 0.2 --hwe 5e-6 --indep_pairwise 1000 10 0.01 --samples_path /data/GP2/raw_genotypes/cnvs/release5/key/release5.samples\n",
      "python run_cnv_qc_pipeline.py --geno_path /data/GP2/quality_control/release5/genotype_qc/GP2_round5_APRIL_2023_MDE --out_path /data/GP2/raw_genotypes/cnvs/release5/genotypes/GP2_round5_APRIL_2023_MDE_clean --covar_path /data/GP2/raw_genotypes/cnvs/release5/key/release5_covar.csv --maf 0.01 --geno 0.2 --hwe 5e-6 --indep_pairwise 1000 10 0.01 --samples_path /data/GP2/raw_genotypes/cnvs/release5/key/release5.samples\n",
      "python run_cnv_qc_pipeline.py --geno_path /data/GP2/quality_control/release5/genotype_qc/GP2_round5_APRIL_2023_SAS --out_path /data/GP2/raw_genotypes/cnvs/release5/genotypes/GP2_round5_APRIL_2023_SAS_clean --covar_path /data/GP2/raw_genotypes/cnvs/release5/key/release5_covar.csv --maf 0.01 --geno 0.2 --hwe 5e-6 --indep_pairwise 1000 10 0.01 --samples_path /data/GP2/raw_genotypes/cnvs/release5/key/release5.samples\n",
      "python run_cnv_qc_pipeline.py --geno_path /data/GP2/quality_control/release5/genotype_qc/GP2_round5_APRIL_2023_CAS --out_path /data/GP2/raw_genotypes/cnvs/release5/genotypes/GP2_round5_APRIL_2023_CAS_clean --covar_path /data/GP2/raw_genotypes/cnvs/release5/key/release5_covar.csv --maf 0.01 --geno 0.2 --hwe 5e-6 --indep_pairwise 1000 10 0.01 --samples_path /data/GP2/raw_genotypes/cnvs/release5/key/release5.samples\n",
      "python run_cnv_qc_pipeline.py --geno_path /data/GP2/quality_control/release5/genotype_qc/GP2_round5_APRIL_2023_AMR --out_path /data/GP2/raw_genotypes/cnvs/release5/genotypes/GP2_round5_APRIL_2023_AMR_clean --covar_path /data/GP2/raw_genotypes/cnvs/release5/key/release5_covar.csv --maf 0.01 --geno 0.2 --hwe 5e-6 --indep_pairwise 1000 10 0.01 --samples_path /data/GP2/raw_genotypes/cnvs/release5/key/release5.samples\n",
      "python run_cnv_qc_pipeline.py --geno_path /data/GP2/quality_control/release5/genotype_qc/GP2_round5_APRIL_2023_AFR --out_path /data/GP2/raw_genotypes/cnvs/release5/genotypes/GP2_round5_APRIL_2023_AFR_clean --covar_path /data/GP2/raw_genotypes/cnvs/release5/key/release5_covar.csv --maf 0.01 --geno 0.2 --hwe 5e-6 --indep_pairwise 1000 10 0.01 --samples_path /data/GP2/raw_genotypes/cnvs/release5/key/release5.samples\n"
     ]
    }
   ],
   "source": [
    "with open(f'{swarm_scripts_dir}/cnv_geno_qc.swarm', 'w') as f:\n",
    "\n",
    "    for label in ancestry_labels:\n",
    "        geno_name = f'GP2_round5_APRIL_2023_{label}'\n",
    "        out_path = f'{cnv_path}/genotypes/{geno_name}_clean'\n",
    "        geno_path = f'/data/GP2/quality_control/release{release}/genotype_qc/{geno_name}'\n",
    "    \n",
    "        cmd = f'\\\n",
    "python run_cnv_qc_pipeline.py \\\n",
    "--geno_path {geno_path} \\\n",
    "--out_path {out_path} \\\n",
    "--covar_path {covar_path} \\\n",
    "--maf 0.01 \\\n",
    "--geno 0.2 \\\n",
    "--hwe 5e-6 \\\n",
    "--indep_pairwise 1000 10 0.01 \\\n",
    "--samples_path {cnv_path}/key/release{release}.samples'\n",
    "        \n",
    "        f.write(f'{cmd}\\n')\n",
    "f.close()\n",
    "!cat {swarm_scripts_dir}/cnv_geno_qc.swarm\n"
   ]
  },
  {
   "cell_type": "code",
   "execution_count": 28,
   "id": "b3362f7d-e67e-4b3d-b692-06f7d5a4c421",
   "metadata": {},
   "outputs": [
    {
     "name": "stdout",
     "output_type": "stream",
     "text": [
      "63958236\n"
     ]
    }
   ],
   "source": [
    "!swarm -f {swarm_scripts_dir}/cnv_geno_qc.swarm -g 16 -t 16 --time=02:00:00 --logdir {swarm_scripts_dir}/logs --module python/3.8,plink/1.9 --gres=lscratch:20 --partition=norm\n"
   ]
  },
  {
   "cell_type": "code",
   "execution_count": 9,
   "id": "aeb8e8f0-3185-4f74-83a1-c2d0f153d205",
   "metadata": {},
   "outputs": [
    {
     "name": "stdout",
     "output_type": "stream",
     "text": [
      "/data/GP2/raw_genotypes/cnvs/release5/genotypes/GP2_round5_APRIL_2023_FIN_clean.bed\n",
      "fam: ['16']\n",
      "cov: ['16']\n",
      "eigenvec: ['16']\n",
      "bim: ['1152']\n",
      "snps: ['1152']\n",
      "\n",
      "\n",
      "/data/GP2/raw_genotypes/cnvs/release5/genotypes/GP2_round5_APRIL_2023_EUR_clean.bed\n",
      "fam: ['15356']\n",
      "cov: ['15356']\n",
      "eigenvec: ['15356']\n",
      "bim: ['14573']\n",
      "snps: ['14573']\n",
      "\n",
      "\n",
      "/data/GP2/raw_genotypes/cnvs/release5/genotypes/GP2_round5_APRIL_2023_EAS_clean.bed\n",
      "fam: ['2913']\n",
      "cov: ['2913']\n",
      "eigenvec: ['2913']\n",
      "bim: ['17255']\n",
      "snps: ['17255']\n",
      "\n",
      "\n",
      "/data/GP2/raw_genotypes/cnvs/release5/genotypes/GP2_round5_APRIL_2023_AAC_clean.bed\n",
      "fam: ['1331']\n",
      "cov: ['1331']\n",
      "eigenvec: ['1331']\n",
      "bim: ['13110']\n",
      "snps: ['13110']\n",
      "\n",
      "\n",
      "/data/GP2/raw_genotypes/cnvs/release5/genotypes/GP2_round5_APRIL_2023_AJ_clean.bed\n",
      "fam: ['1546']\n",
      "cov: ['1546']\n",
      "eigenvec: ['1546']\n",
      "bim: ['4747']\n",
      "snps: ['4747']\n",
      "\n",
      "\n",
      "/data/GP2/raw_genotypes/cnvs/release5/genotypes/GP2_round5_APRIL_2023_MDE_clean.bed\n",
      "fam: ['149']\n",
      "cov: ['149']\n",
      "eigenvec: ['149']\n",
      "bim: ['2672']\n",
      "snps: ['2672']\n",
      "\n",
      "\n",
      "/data/GP2/raw_genotypes/cnvs/release5/genotypes/GP2_round5_APRIL_2023_SAS_clean.bed\n",
      "fam: ['220']\n",
      "cov: ['220']\n",
      "eigenvec: ['220']\n",
      "bim: ['3273']\n",
      "snps: ['3273']\n",
      "\n",
      "\n",
      "/data/GP2/raw_genotypes/cnvs/release5/genotypes/GP2_round5_APRIL_2023_CAS_clean.bed\n",
      "fam: ['478']\n",
      "cov: ['478']\n",
      "eigenvec: ['478']\n",
      "bim: ['5367']\n",
      "snps: ['5367']\n",
      "\n",
      "\n",
      "/data/GP2/raw_genotypes/cnvs/release5/genotypes/GP2_round5_APRIL_2023_AMR_clean.bed\n",
      "fam: ['573']\n",
      "cov: ['573']\n",
      "eigenvec: ['573']\n",
      "bim: ['5020']\n",
      "snps: ['5020']\n",
      "\n",
      "\n",
      "/data/GP2/raw_genotypes/cnvs/release5/genotypes/GP2_round5_APRIL_2023_AFR_clean.bed\n",
      "fam: ['2353']\n",
      "cov: ['2353']\n",
      "eigenvec: ['2353']\n",
      "bim: ['18843']\n",
      "snps: ['18843']\n",
      "\n",
      "\n"
     ]
    }
   ],
   "source": [
    "# check outputs from qc pipeline\n",
    "\n",
    "for label in ancestry_labels:\n",
    "    extensions = ['fam','cov','eigenvec','bim', 'snps']\n",
    "    out_geno = f'/data/GP2/raw_genotypes/cnvs/release5/genotypes/GP2_round5_APRIL_2023_{label}_clean.bed'\n",
    "    print(f'{out_geno}')\n",
    "    for ext in extensions:\n",
    "        out_geno_path = f'/data/GP2/raw_genotypes/cnvs/release5/genotypes/GP2_round5_APRIL_2023_{label}_clean.{ext}'\n",
    "        if os.path.isfile(out_geno):\n",
    "            count = !cat {out_geno_path} | wc -l\n",
    "            print(f'{ext}: {count}') \n",
    "            \n",
    "        else:\n",
    "            print(f'{out_geno} does not exist!!!')\n",
    "    print()\n",
    "    print()\n"
   ]
  },
  {
   "cell_type": "code",
   "execution_count": 19,
   "id": "c0a75eb9-9d5f-4cfd-b81a-f97ac19841f8",
   "metadata": {},
   "outputs": [
    {
     "name": "stdout",
     "output_type": "stream",
     "text": [
      "FIN | total_n: 13 | n_cases: 10 | n_controls: 3 | n_snps: 1152\n",
      "\n",
      "EUR | total_n: 14196 | n_cases: 9230 | n_controls: 4966 | n_snps: 14573\n",
      "\n",
      "EAS | total_n: 2900 | n_cases: 878 | n_controls: 2022 | n_snps: 17255\n",
      "\n",
      "AAC | total_n: 1320 | n_cases: 289 | n_controls: 1031 | n_snps: 13110\n",
      "\n",
      "AJ | total_n: 1126 | n_cases: 740 | n_controls: 386 | n_snps: 4747\n",
      "\n",
      "MDE | total_n: 124 | n_cases: 106 | n_controls: 18 | n_snps: 2672\n",
      "\n",
      "SAS | total_n: 215 | n_cases: 80 | n_controls: 135 | n_snps: 3273\n",
      "\n",
      "CAS | total_n: 474 | n_cases: 195 | n_controls: 279 | n_snps: 5367\n",
      "\n",
      "AMR | total_n: 550 | n_cases: 345 | n_controls: 205 | n_snps: 5020\n",
      "\n",
      "AFR | total_n: 2343 | n_cases: 855 | n_controls: 1488 | n_snps: 18843\n",
      "\n"
     ]
    }
   ],
   "source": [
    "\n",
    "total_sample_n = 0\n",
    "for label in ancestry_labels:\n",
    "    out_name = f'GP2_round5_APRIL_2023_{label}_clean'\n",
    "    out_path = f'{cnv_path}/genotypes/{out_name}'\n",
    "    fam = pd.read_csv(f'{out_path}.fam', sep='\\s+', header=None, names=['fid','iid','pat','mat','sex','pheno'])\n",
    "    pheno_counts = fam.pheno.value_counts()\n",
    "    ncases = pheno_counts[2]\n",
    "    ncontrols = pheno_counts[1]\n",
    "    ntotal = ncases + ncontrols\n",
    "    total_sample_n += ntotal\n",
    "    nsnps = !cat {out_path}.bim | wc -l\n",
    "    print(f'{label} | total_n: {ntotal} | n_cases: {ncases} | n_controls: {ncontrols} | n_snps: {int(nsnps[0])}')\n",
    "    print()"
   ]
  },
  {
   "cell_type": "code",
   "execution_count": 18,
   "id": "d88db2ff-516c-4e0e-9e50-2ae5763cd9e6",
   "metadata": {},
   "outputs": [],
   "source": [
    "missing_metrics = []\n",
    "with open(f'{swarm_scripts_dir}/cnvs.swarm', 'w') as f:\n",
    "    for label in ancestry_labels:\n",
    "    # for label in ['EUR']:\n",
    "        out_name = f'GP2_round5_APRIL_2023_{label}_clean'\n",
    "        geno_path = f'{cnv_path}/genotypes/{out_name}'\n",
    "        bim_path = f'{geno_path}.bim'\n",
    "        fam = pd.read_csv(f'{geno_path}.fam', sep='\\s+', header=None, names=['FID','IID','pat','mat','sex','pheno'])\n",
    "        fam_key = fam.merge(key, left_on='IID', right_on='GP2sampleID', how='left')\n",
    "\n",
    "        # samples = pd.read_csv(f'{geno_path}_barcode.samples', header=None, names=['IID'])\n",
    "        label_dir = f'{cnv_path}/cnv_calls/{label}'\n",
    "        os.makedirs(label_dir, exist_ok=True)\n",
    "        for sample in fam_key.filename.unique():\n",
    "            code = sample.split('_')[0]\n",
    "\n",
    "            # mfile = f'{snp_metrics_path}/{code}/snp_metrics_{sample}_chr{chrom}.parquet'\n",
    "            mfile = f'/data/GP2/raw_genotypes/snp_metrics/{code}/snp_metrics_{code}.parquet/Sample_ID={sample}'\n",
    "            \n",
    "            if os.path.isdir(mfile):\n",
    "                cnv_out = f'{label_dir}/CNV_{label}_{sample}.parquet'\n",
    "                intervals = f'/data/GP2/utils/ref_dir/glist_hg38_intervals.csv'\n",
    "\n",
    "                cmd = f'\\\n",
    "python run_cnv_pipeline.py \\\n",
    "--metrics {mfile} \\\n",
    "--bim {bim_path} \\\n",
    "--out_path {cnv_out} \\\n",
    "--intervals {intervals} \\\n",
    "--min_variants 10 \\\n",
    "--kb_window 250 \\\n",
    "--min_gentrain 0.2'\n",
    "\n",
    "                f.write(f'{cmd}\\n')\n",
    "            \n",
    "            else:\n",
    "                missing_metrics.append(sample)\n",
    "f.close()"
   ]
  },
  {
   "cell_type": "code",
   "execution_count": 27,
   "id": "e5943a0e-afc6-4605-93e8-5e308777bd45",
   "metadata": {},
   "outputs": [
    {
     "name": "stdout",
     "output_type": "stream",
     "text": [
      "64688128\n"
     ]
    }
   ],
   "source": [
    "!swarm -f {swarm_scripts_dir}/cnvs.swarm -g 16 -t 8 --time=00:15:00 --logdir {swarm_scripts_dir}/logs --module python/3.8 --gres=lscratch:20 --partition=norm"
   ]
  },
  {
   "cell_type": "code",
   "execution_count": null,
   "id": "9649b857-e63d-442e-8b7d-c2823c24b18f",
   "metadata": {},
   "outputs": [],
   "source": []
  },
  {
   "cell_type": "code",
   "execution_count": 7,
   "id": "01ec7720-ee0c-420b-9c37-f10799e28856",
   "metadata": {},
   "outputs": [
    {
     "data": {
      "text/html": [
       "<div>\n",
       "<style scoped>\n",
       "    .dataframe tbody tr th:only-of-type {\n",
       "        vertical-align: middle;\n",
       "    }\n",
       "\n",
       "    .dataframe tbody tr th {\n",
       "        vertical-align: top;\n",
       "    }\n",
       "\n",
       "    .dataframe thead th {\n",
       "        text-align: right;\n",
       "    }\n",
       "</style>\n",
       "<table border=\"1\" class=\"dataframe\">\n",
       "  <thead>\n",
       "    <tr style=\"text-align: right;\">\n",
       "      <th></th>\n",
       "      <th>INTERVAL</th>\n",
       "      <th>NUM_VARIANTS</th>\n",
       "      <th>PERCENT_BAF_INSERTION</th>\n",
       "      <th>PERCENT_L2R_DELETION</th>\n",
       "      <th>PERCENT_L2R_DUPLICATION</th>\n",
       "      <th>START_PLUS_WINDOW</th>\n",
       "      <th>START</th>\n",
       "      <th>STOP</th>\n",
       "      <th>STOP_PLUS_WINDOW</th>\n",
       "    </tr>\n",
       "  </thead>\n",
       "  <tbody>\n",
       "    <tr>\n",
       "      <th>85</th>\n",
       "      <td>ABCG1</td>\n",
       "      <td>13</td>\n",
       "      <td>0.000000</td>\n",
       "      <td>0.000000</td>\n",
       "      <td>0.000000</td>\n",
       "      <td>41949688</td>\n",
       "      <td>42199688</td>\n",
       "      <td>42297244</td>\n",
       "      <td>42547244</td>\n",
       "    </tr>\n",
       "    <tr>\n",
       "      <th>121</th>\n",
       "      <td>ABR</td>\n",
       "      <td>12</td>\n",
       "      <td>0.000000</td>\n",
       "      <td>0.000000</td>\n",
       "      <td>0.166667</td>\n",
       "      <td>753517</td>\n",
       "      <td>1003517</td>\n",
       "      <td>1187322</td>\n",
       "      <td>1437322</td>\n",
       "    </tr>\n",
       "    <tr>\n",
       "      <th>190</th>\n",
       "      <td>ACPT</td>\n",
       "      <td>16</td>\n",
       "      <td>0.000000</td>\n",
       "      <td>0.000000</td>\n",
       "      <td>0.000000</td>\n",
       "      <td>50540414</td>\n",
       "      <td>50790414</td>\n",
       "      <td>50795224</td>\n",
       "      <td>51045224</td>\n",
       "    </tr>\n",
       "    <tr>\n",
       "      <th>237</th>\n",
       "      <td>ACTR3B</td>\n",
       "      <td>13</td>\n",
       "      <td>0.076923</td>\n",
       "      <td>0.000000</td>\n",
       "      <td>0.076923</td>\n",
       "      <td>152509748</td>\n",
       "      <td>152759748</td>\n",
       "      <td>152855379</td>\n",
       "      <td>153105379</td>\n",
       "    </tr>\n",
       "    <tr>\n",
       "      <th>291</th>\n",
       "      <td>ADAMTS2</td>\n",
       "      <td>13</td>\n",
       "      <td>0.000000</td>\n",
       "      <td>0.000000</td>\n",
       "      <td>0.076923</td>\n",
       "      <td>178860850</td>\n",
       "      <td>179110850</td>\n",
       "      <td>179345430</td>\n",
       "      <td>179595430</td>\n",
       "    </tr>\n",
       "    <tr>\n",
       "      <th>...</th>\n",
       "      <td>...</td>\n",
       "      <td>...</td>\n",
       "      <td>...</td>\n",
       "      <td>...</td>\n",
       "      <td>...</td>\n",
       "      <td>...</td>\n",
       "      <td>...</td>\n",
       "      <td>...</td>\n",
       "      <td>...</td>\n",
       "    </tr>\n",
       "    <tr>\n",
       "      <th>25314</th>\n",
       "      <td>ZNF556</td>\n",
       "      <td>13</td>\n",
       "      <td>0.000000</td>\n",
       "      <td>0.076923</td>\n",
       "      <td>0.153846</td>\n",
       "      <td>2617334</td>\n",
       "      <td>2867334</td>\n",
       "      <td>2878503</td>\n",
       "      <td>3128503</td>\n",
       "    </tr>\n",
       "    <tr>\n",
       "      <th>25476</th>\n",
       "      <td>ZNF761</td>\n",
       "      <td>17</td>\n",
       "      <td>0.000000</td>\n",
       "      <td>0.000000</td>\n",
       "      <td>0.117647</td>\n",
       "      <td>53181973</td>\n",
       "      <td>53431973</td>\n",
       "      <td>53458261</td>\n",
       "      <td>53708261</td>\n",
       "    </tr>\n",
       "    <tr>\n",
       "      <th>25479</th>\n",
       "      <td>ZNF765</td>\n",
       "      <td>16</td>\n",
       "      <td>0.000000</td>\n",
       "      <td>0.000000</td>\n",
       "      <td>0.125000</td>\n",
       "      <td>53145143</td>\n",
       "      <td>53395143</td>\n",
       "      <td>53412009</td>\n",
       "      <td>53662009</td>\n",
       "    </tr>\n",
       "    <tr>\n",
       "      <th>25515</th>\n",
       "      <td>ZNF813</td>\n",
       "      <td>17</td>\n",
       "      <td>0.000000</td>\n",
       "      <td>0.000000</td>\n",
       "      <td>0.117647</td>\n",
       "      <td>53217734</td>\n",
       "      <td>53467734</td>\n",
       "      <td>53494292</td>\n",
       "      <td>53744292</td>\n",
       "    </tr>\n",
       "    <tr>\n",
       "      <th>25536</th>\n",
       "      <td>ZNF845</td>\n",
       "      <td>15</td>\n",
       "      <td>0.000000</td>\n",
       "      <td>0.000000</td>\n",
       "      <td>0.133333</td>\n",
       "      <td>53083748</td>\n",
       "      <td>53333748</td>\n",
       "      <td>53354869</td>\n",
       "      <td>53604869</td>\n",
       "    </tr>\n",
       "  </tbody>\n",
       "</table>\n",
       "<p>639 rows × 9 columns</p>\n",
       "</div>"
      ],
      "text/plain": [
       "      INTERVAL  NUM_VARIANTS  PERCENT_BAF_INSERTION  PERCENT_L2R_DELETION  \\\n",
       "85       ABCG1            13               0.000000              0.000000   \n",
       "121        ABR            12               0.000000              0.000000   \n",
       "190       ACPT            16               0.000000              0.000000   \n",
       "237     ACTR3B            13               0.076923              0.000000   \n",
       "291    ADAMTS2            13               0.000000              0.000000   \n",
       "...        ...           ...                    ...                   ...   \n",
       "25314   ZNF556            13               0.000000              0.076923   \n",
       "25476   ZNF761            17               0.000000              0.000000   \n",
       "25479   ZNF765            16               0.000000              0.000000   \n",
       "25515   ZNF813            17               0.000000              0.000000   \n",
       "25536   ZNF845            15               0.000000              0.000000   \n",
       "\n",
       "       PERCENT_L2R_DUPLICATION  START_PLUS_WINDOW      START       STOP  \\\n",
       "85                    0.000000           41949688   42199688   42297244   \n",
       "121                   0.166667             753517    1003517    1187322   \n",
       "190                   0.000000           50540414   50790414   50795224   \n",
       "237                   0.076923          152509748  152759748  152855379   \n",
       "291                   0.076923          178860850  179110850  179345430   \n",
       "...                        ...                ...        ...        ...   \n",
       "25314                 0.153846            2617334    2867334    2878503   \n",
       "25476                 0.117647           53181973   53431973   53458261   \n",
       "25479                 0.125000           53145143   53395143   53412009   \n",
       "25515                 0.117647           53217734   53467734   53494292   \n",
       "25536                 0.133333           53083748   53333748   53354869   \n",
       "\n",
       "       STOP_PLUS_WINDOW  \n",
       "85             42547244  \n",
       "121             1437322  \n",
       "190            51045224  \n",
       "237           153105379  \n",
       "291           179595430  \n",
       "...                 ...  \n",
       "25314           3128503  \n",
       "25476          53708261  \n",
       "25479          53662009  \n",
       "25515          53744292  \n",
       "25536          53604869  \n",
       "\n",
       "[639 rows x 9 columns]"
      ]
     },
     "execution_count": 7,
     "metadata": {},
     "output_type": "execute_result"
    }
   ],
   "source": [
    "# test_cnv = pd.read_parquet('/data/GP2/raw_genotypes/cnvs/release5/cnv_calls/EUR/CNV_EUR_204620380001_R01C01.parquet')\n",
    "test_cnv[test_cnv.NUM_VARIANTS>10]"
   ]
  },
  {
   "cell_type": "code",
   "execution_count": 13,
   "id": "62c63096-42fa-4e6c-a25b-fce62a380e05",
   "metadata": {},
   "outputs": [
    {
     "data": {
      "text/plain": [
       "array(['206966380021_R01C01', '206966380021_R02C01',\n",
       "       '206966380021_R03C01', ..., '206412050061_R06C01',\n",
       "       '206412050061_R07C01', '206412050061_R08C01'], dtype=object)"
      ]
     },
     "execution_count": 13,
     "metadata": {},
     "output_type": "execute_result"
    }
   ],
   "source": [
    "samples_list"
   ]
  },
  {
   "cell_type": "code",
   "execution_count": 18,
   "id": "0bdd6207-9402-48c8-a1f2-2c5083194ddf",
   "metadata": {},
   "outputs": [
    {
     "name": "stdout",
     "output_type": "stream",
     "text": [
      "/data/GP2/raw_genotypes/cnvs/release5/cnv_calls/EUR/CNV_EUR_204620380001_R01C01.parquet\n"
     ]
    }
   ],
   "source": [
    "!ls {cnv_path}/cnv_calls/EUR/CNV_EUR_204620380001_R01C01.parquet"
   ]
  },
  {
   "cell_type": "code",
   "execution_count": 21,
   "id": "09006d9d-e195-433e-b9b8-f809944ea0b5",
   "metadata": {},
   "outputs": [],
   "source": [
    "# for label in ancestry_labels:\n",
    "for label in ['EUR']:\n",
    "    cnv_dir_ = f'{cnv_path}/cnv_calls/EUR/'\n",
    "    label_cnvs_list = glob.glob(f'{cnv_dir_}/*.parquet')\n",
    "    "
   ]
  },
  {
   "cell_type": "code",
   "execution_count": 23,
   "id": "8f77c340-6240-44fb-9e87-898718214880",
   "metadata": {},
   "outputs": [
    {
     "data": {
      "text/plain": [
       "15356"
      ]
     },
     "execution_count": 23,
     "metadata": {},
     "output_type": "execute_result"
    }
   ],
   "source": [
    "len(label_cnvs_list)"
   ]
  },
  {
   "cell_type": "code",
   "execution_count": 24,
   "id": "dd764b9e-24b1-44a7-8b41-442fdc774d7d",
   "metadata": {},
   "outputs": [
    {
     "data": {
      "text/plain": [
       "['PERCENT_BAF_INSERTION', 'PERCENT_L2R_DELETION', 'PERCENT_L2R_DUPLICATION']"
      ]
     },
     "execution_count": 24,
     "metadata": {},
     "output_type": "execute_result"
    }
   ],
   "source": [
    "cnv_types"
   ]
  },
  {
   "cell_type": "code",
   "execution_count": null,
   "id": "22a4a8b9-6e1d-4f7e-89b2-e95610294426",
   "metadata": {},
   "outputs": [],
   "source": []
  },
  {
   "cell_type": "code",
   "execution_count": null,
   "id": "eaaf79c3-e2dc-4be4-aa37-7403128f7699",
   "metadata": {},
   "outputs": [],
   "source": []
  },
  {
   "cell_type": "code",
   "execution_count": 25,
   "id": "75f31342-5241-48f9-bdf5-e73b1c46798d",
   "metadata": {
    "tags": []
   },
   "outputs": [],
   "source": [
    "# write dosages per chromosome per ancestry per cnv-type\n",
    "\n",
    "with open(f'{swarm_scripts_dir}/cnv_dosages.swarm', 'w') as f:\n",
    "    for label in ancestry_labels:\n",
    "        label_dir = f'{cnv_path}/dosages/{label}'\n",
    "        os.makedirs(label_dir, exist_ok=True)\n",
    "\n",
    "        cnv_files_list = glob.glob(f'{cnv_path}/cnv_calls/{label}/CNV_{label}_*.parquet')\n",
    "        cnv_files_df = pd.DataFrame({'filename': cnv_files_list})\n",
    "        cnv_files_df.to_csv(f'{label_dir}/CNV_{label}_files.csv', header=False, index=False)\n",
    "\n",
    "        for cnv_type in cnv_types:\n",
    "\n",
    "            cmd = f'\\\n",
    "python /data/vitaled2/CNVs/run_cnv_dosage_pipeline.py \\\n",
    "--files {label_dir}/CNV_{label}_files.csv \\\n",
    "--label {label} \\\n",
    "--cnv_type {cnv_type} \\\n",
    "--out_path {label_dir}/CNV_{label}_{cnv_type}.csv'\n",
    "            f.write(f'{cmd}\\n')\n",
    "f.close()\n"
   ]
  },
  {
   "cell_type": "code",
   "execution_count": 29,
   "id": "5bce1bd2-a140-47d7-93cb-f6515adea344",
   "metadata": {},
   "outputs": [
    {
     "name": "stdout",
     "output_type": "stream",
     "text": [
      "64981537\n"
     ]
    }
   ],
   "source": [
    "!swarm -f {swarm_scripts_dir}/cnv_dosages.swarm -g 8 -t 4 --logdir {swarm_scripts_dir}/logs --module python/3.8 --gres=lscratch:20 --partition=norm"
   ]
  },
  {
   "cell_type": "code",
   "execution_count": 48,
   "id": "df6aa171-8971-4982-b2ba-ba425f027361",
   "metadata": {},
   "outputs": [
    {
     "name": "stdout",
     "output_type": "stream",
     "text": [
      "GP2ID,GP2sampleID,manifest_id,phenotype,pheno_for_qc,other_pheno,sex_for_qc,age,age_of_onset,age_at_diagnosis,age_at_death,race_for_qc,family_history,region_for_qc,study,pruned,pruned_reason,label,related,SentrixBarcode_A,SentrixPosition_A,filename\n",
      "IMMUNEPD_000001,IMMUNEPD_000001_s1,m1,PD,2,PD,1,61.0,,61.0,,White,Yes,USA,IMMUNEPD,0,,EUR,,206966380021,R01C01,206966380021_R01C01\n",
      "IMMUNEPD_000002,IMMUNEPD_000002_s1,m1,PD,2,PD,1,66.0,,66.0,,White,Yes,USA,IMMUNEPD,0,,EUR,,206966380021,R02C01,206966380021_R02C01\n",
      "IMMUNEPD_000003,IMMUNEPD_000003_s1,m1,Control,1,Control,2,55.0,,,,White,No,USA,IMMUNEPD,0,,EUR,,206966380021,R03C01,206966380021_R03C01\n",
      "IMMUNEPD_000004,IMMUNEPD_000004_s1,m1,Control,1,Control,1,50.0,,,,White,No,USA,IMMUNEPD,0,,EUR,,206966380021,R04C01,206966380021_R04C01\n",
      "IMMUNEPD_000005,IMMUNEPD_000005_s1,m1,Control,1,Control,2,74.0,,,,White,No,USA,IMMUNEPD,0,,EUR,,206966380021,R05C01,206966380021_R05C01\n",
      "IMMUNEPD_000006,IMMUNEPD_000006_s1,m1,PD,2,PD,1,71.0,,69.0,,White,No,USA,IMMUNEPD,0,,EUR,,206966380021,R06C01,206966380021_R06C01\n",
      "IMMUNEPD_000007,IMMUNEPD_000007_s1,m1,Control,1,Control,2,63.0,,,,White,No,USA,IMMUNEPD,0,,EUR,,206966380021,R07C01,206966380021_R07C01\n",
      "IMMUNEPD_000008,IMMUNEPD_000008_s1,m1,PD,2,PD,1,60.0,,59.0,,White,No,USA,IMMUNEPD,0,,EUR,,206966380021,R08C01,206966380021_R08C01\n",
      "IMMUNEPD_000009,IMMUNEPD_000009_s1,m1,Control,1,Control,1,74.0,,,,White,No,USA,IMMUNEPD,0,,EUR,,206978580059,R01C01,206978580059_R01C01\n"
     ]
    }
   ],
   "source": [
    "!head /data/GP2/clinical/master_key/GP2_master_key_FINAL_release5_n26728.txt"
   ]
  },
  {
   "cell_type": "code",
   "execution_count": 58,
   "id": "8eaefe81-9ec6-4179-9f2c-776ba966b8ba",
   "metadata": {},
   "outputs": [],
   "source": [
    "with open(f'{swarm_scripts_dir}/update_cnv_ids.swarm','w') as f:\n",
    "    for label in ancestry_labels:\n",
    "        label_dir = f'{cnv_path}/dosages/{label}'\n",
    "        out_dir = f'/data/GP2/releases/gp2tier2/release5_11052023/cnvs/{label}'\n",
    "        os.makedirs(out_dir, exist_ok=True)\n",
    "        for cnv_type in cnv_types:\n",
    "\n",
    "            dosagefile = f'{label_dir}/CNV_{label}_{cnv_type}.csv'\n",
    "            dosagefile_out = f'{out_dir}/CNV_{label}_{cnv_type}_gp2ids.csv'\n",
    "            pheno_out = f'{label_dir}/GP2_{label}_{cnv_type}.pheno'\n",
    "            cmd = f'\\\n",
    "python update_cnv_ids.py \\\n",
    "--dosagefile {dosagefile} \\\n",
    "--key /data/GP2/clinical/master_key/GP2_master_key_FINAL_release5_n26728.txt \\\n",
    "--pheno_out {pheno_out} \\\n",
    "--out_path {dosagefile_out}'\n",
    "            f.write(f'{cmd}\\n')\n",
    "f.close()"
   ]
  },
  {
   "cell_type": "code",
   "execution_count": 59,
   "id": "051dc35b-f2f2-4eb8-877a-a720e822fb04",
   "metadata": {},
   "outputs": [
    {
     "name": "stdout",
     "output_type": "stream",
     "text": [
      "65062074\n"
     ]
    }
   ],
   "source": [
    "!swarm -f {swarm_scripts_dir}/update_cnv_ids.swarm -g 8 -t 8 --logdir {swarm_scripts_dir}/logs --module python/3.8 --gres=lscratch:20 --partition=norm"
   ]
  },
  {
   "cell_type": "code",
   "execution_count": 93,
   "id": "d1b65e0b-4010-4502-b1b4-ed2e10f7c1a4",
   "metadata": {
    "tags": []
   },
   "outputs": [
    {
     "name": "stdout",
     "output_type": "stream",
     "text": [
      ",FID,GP2sampleID,sex_for_qc,age,age_of_onset\n",
      "0,0,IMMUNEPD_000001_s1,1,61.0,\n",
      "1,0,IMMUNEPD_000002_s1,1,66.0,\n",
      "2,0,IMMUNEPD_000003_s1,2,55.0,\n",
      "3,0,IMMUNEPD_000004_s1,1,50.0,\n",
      "4,0,IMMUNEPD_000005_s1,2,74.0,\n",
      "5,0,IMMUNEPD_000006_s1,1,71.0,\n",
      "6,0,IMMUNEPD_000007_s1,2,63.0,\n",
      "7,0,IMMUNEPD_000008_s1,1,60.0,\n",
      "8,0,IMMUNEPD_000009_s1,1,74.0,\n"
     ]
    }
   ],
   "source": [
    "# !cat {swarm_scripts_dir}/logs/swarm_65062074_0.o\n",
    "# dosagefile\n",
    "# !head /data/GP2/raw_genotypes/cnvs/release5/dosages/FIN/CNV_FIN_PERCENT_BAF_INSERTION.csv\n",
    "# !head /data/GP2/releases/gp2tier2/release5_11052023/cnvs/EUR/CNV_EUR_PERCENT_BAF_INSERTION_gp2ids.csv\n",
    "# !ls /data/GP2/releases/gp2tier2/release5_11052023/cnvs/EUR\n",
    "# !head /data/GP2/raw_genotypes/cnvs/release5/dosages/EUR/GP2_EUR_PERCENT_BAF_INSERTION.pheno\n",
    "!head {cnv_path}/key/release5_covar.csv"
   ]
  },
  {
   "cell_type": "code",
   "execution_count": 82,
   "id": "3b3a4dec-9b45-40ac-a1bc-0c51090c2819",
   "metadata": {},
   "outputs": [],
   "source": [
    "cnv_out_path = '/data/GP2/raw_genotypes/cnvwas'\n",
    "with open(f'{swarm_scripts_dir}/cnvwas.swarm', 'w') as f:\n",
    "    for label in ancestry_labels:\n",
    "        for cnv_type in cnv_types:\n",
    "\n",
    "            dosagefile = f'/data/GP2/releases/gp2tier2/release5_11052023/cnvs/{label}/CNV_{label}_{cnv_type}_gp2ids.csv'\n",
    "            pheno = f'{cnv_path}/dosages/{label}/GP2_{label}_{cnv_type}.pheno'\n",
    "            covar = f'{cnv_path}/key/release5_covar.csv'\n",
    "            out_path = f'{cnv_out_path}/GP2_{label}_{cnv_type}_cnvwas.tab'\n",
    "\n",
    "            cmd = f'\\\n",
    "python run_cnvwas_pipeline.py \\\n",
    "--cnv_dosage_file {dosagefile} \\\n",
    "--out_path {out_path} \\\n",
    "--pheno {pheno} \\\n",
    "--covar {covar}'\n",
    "\n",
    "            f.write(f'{cmd}\\n')\n",
    "f.close()\n"
   ]
  },
  {
   "cell_type": "code",
   "execution_count": 99,
   "id": "9098b284-30f8-4c79-9944-9dc8da375090",
   "metadata": {},
   "outputs": [
    {
     "name": "stdout",
     "output_type": "stream",
     "text": [
      "65078390\n"
     ]
    }
   ],
   "source": [
    "!swarm -f {swarm_scripts_dir}/cnvwas.swarm -g 32 -t 16 --time=00:30:00 --logdir {swarm_scripts_dir}/logs --gres=lscratch:20 --partition=norm"
   ]
  },
  {
   "cell_type": "code",
   "execution_count": 104,
   "id": "ec1d93dc-88fc-472b-98bd-7024d178de8a",
   "metadata": {},
   "outputs": [
    {
     "name": "stdout",
     "output_type": "stream",
     "text": [
      "Traceback (most recent call last):\n",
      "  File \"run_cnvwas_pipeline.py\", line 17, in <module>\n",
      "    CNV_WAS(cnv_dosage_file, pheno, covar, out_path)\n",
      "  File \"/gpfs/gsfs12/users/vitaled2/CNVs/CNV/cnv.py\", line 503, in CNV_WAS\n",
      "    fitted = sm.formula.glm(formula=formula, family=sm.families.Binomial(), data=data_df_final).fit()\n",
      "  File \"/usr/local/Anaconda/envs/py3.8/lib/python3.8/site-packages/statsmodels/genmod/generalized_linear_model.py\", line 1075, in fit\n",
      "    return self._fit_irls(start_params=start_params, maxiter=maxiter,\n",
      "  File \"/usr/local/Anaconda/envs/py3.8/lib/python3.8/site-packages/statsmodels/genmod/generalized_linear_model.py\", line 1224, in _fit_irls\n",
      "    raise PerfectSeparationError(msg)\n",
      "statsmodels.tools.sm_exceptions.PerfectSeparationError: Perfect separation detected, results not available\n"
     ]
    }
   ],
   "source": [
    "!cat {swarm_scripts_dir}/logs/swarm_65078390_29.e\n",
    "\n",
    "\n"
   ]
  },
  {
   "cell_type": "code",
   "execution_count": 86,
   "id": "931f3e00-37b1-4a89-b7b3-529d0ca4c7ce",
   "metadata": {},
   "outputs": [
    {
     "name": "stdout",
     "output_type": "stream",
     "text": [
      "\n",
      "RUNNING: lambda_calculation\n",
      "\n",
      "\n",
      "RUNNING: lambda_calculation\n",
      "\n",
      "\n",
      "RUNNING: lambda_calculation\n",
      "\n"
     ]
    }
   ],
   "source": [
    "from GWAS.gwas import calculate_inflation\n",
    "label = 'EUR'\n",
    "# cnv_type = 'PERCENT_BAF_INSERTION'\n",
    "# cnv_type = 'PERCENT_L2R_DUPLICATION'\n",
    "# chrom = '1'\n",
    "pheno_df = pd.read_csv(f'{cnv_path}/GP2_EUR_{cnv_type}.pheno', sep='\\t', engine='python')\n",
    "ncontrols = pheno_df.pheno.value_counts()[0]\n",
    "ncases = pheno_df.pheno.value_counts()[1]\n",
    "cnv_lambda_dict = dict()\n",
    "for cnv_type in cnv_types:\n",
    "    total_cnvtype_df = pd.DataFrame()\n",
    "    for chrom in chroms:\n",
    "        tab = f'{cnv_out_path}/GP2_{label}_{cnv_type}_cnvwas.tab'\n",
    "\n",
    "        if os.path.isfile(tab):\n",
    "\n",
    "            sumstats = pd.read_csv(tab, sep='\\s+', engine='python')\n",
    "            # print(tab)\n",
    "            # infl = calculate_inflation(sumstats.P_VAL, normalize=True, ncases=ncases, ncontrols=ncontrols)\n",
    "            # print(infl)\n",
    "            # print()\n",
    "            # print()\n",
    "            total_cnvtype_df = pd.concat([total_cnvtype_df, sumstats], ignore_index=True)\n",
    "        else:\n",
    "            print(f'{tab} does not exist!')\n",
    "\n",
    "    infl = calculate_inflation(total_cnvtype_df.P_VAL, normalize=True, ncases=ncases, ncontrols=ncontrols)\n",
    "    cnv_lambda_dict[cnv_type] = infl\n",
    "    \n",
    "\n"
   ]
  },
  {
   "cell_type": "code",
   "execution_count": 91,
   "id": "69500012-0c99-45cf-8c91-0a8afa7e3ff4",
   "metadata": {},
   "outputs": [
    {
     "data": {
      "text/plain": [
       "{'PERCENT_BAF_INSERTION': {'pass': True,\n",
       "  'step': 'lambda_calculation',\n",
       "  'metrics': {'inflation': 2.101750589371727}},\n",
       " 'PERCENT_L2R_DELETION': {'pass': True,\n",
       "  'step': 'lambda_calculation',\n",
       "  'metrics': {'inflation': 14.555569305672298}},\n",
       " 'PERCENT_L2R_DUPLICATION': {'pass': True,\n",
       "  'step': 'lambda_calculation',\n",
       "  'metrics': {'inflation': 1.3423052908502526}}}"
      ]
     },
     "execution_count": 91,
     "metadata": {},
     "output_type": "execute_result"
    }
   ],
   "source": [
    "cnv_lambda_dict"
   ]
  },
  {
   "cell_type": "code",
   "execution_count": 82,
   "id": "20feb548-fbfc-49d5-8d92-98ee2afc218a",
   "metadata": {},
   "outputs": [
    {
     "name": "stdout",
     "output_type": "stream",
     "text": [
      "\n",
      "RUNNING: lambda_calculation\n",
      "\n"
     ]
    },
    {
     "data": {
      "text/plain": [
       "{'pass': True,\n",
       " 'step': 'lambda_calculation',\n",
       " 'metrics': {'inflation': 1.3423052908502526}}"
      ]
     },
     "execution_count": 82,
     "metadata": {},
     "output_type": "execute_result"
    }
   ],
   "source": [
    "\n",
    "pheno = pd.read_csv(f'{cnv_path}/GP2_EUR_chr1_{cnv_type}.pheno', sep='\\t', engine='python')\n",
    "ncontrols = pheno.pheno.value_counts()[0]\n",
    "ncases = pheno.pheno.value_counts()[1]\n",
    "\n",
    "infl = calculate_inflation(total_cnvtype_df.P_VAL, normalize=True, ncases=ncases, ncontrols=ncontrols)\n",
    "infl"
   ]
  },
  {
   "cell_type": "code",
   "execution_count": 33,
   "id": "f4973bc4-6208-483d-a6fa-263749ae7d88",
   "metadata": {},
   "outputs": [
    {
     "data": {
      "text/html": [
       "<div>\n",
       "<style scoped>\n",
       "    .dataframe tbody tr th:only-of-type {\n",
       "        vertical-align: middle;\n",
       "    }\n",
       "\n",
       "    .dataframe tbody tr th {\n",
       "        vertical-align: top;\n",
       "    }\n",
       "\n",
       "    .dataframe thead th {\n",
       "        text-align: right;\n",
       "    }\n",
       "</style>\n",
       "<table border=\"1\" class=\"dataframe\">\n",
       "  <thead>\n",
       "    <tr style=\"text-align: right;\">\n",
       "      <th></th>\n",
       "      <th>GP2ID</th>\n",
       "      <th>GP2sampleID</th>\n",
       "      <th>manifest_id</th>\n",
       "      <th>phenotype</th>\n",
       "      <th>pheno_for_qc</th>\n",
       "      <th>other_pheno</th>\n",
       "      <th>sex_for_qc</th>\n",
       "      <th>age</th>\n",
       "      <th>age_of_onset</th>\n",
       "      <th>age_at_diagnosis</th>\n",
       "      <th>...</th>\n",
       "      <th>study</th>\n",
       "      <th>pruned</th>\n",
       "      <th>pruned_reason</th>\n",
       "      <th>label</th>\n",
       "      <th>related</th>\n",
       "      <th>SentrixBarcode_A</th>\n",
       "      <th>SentrixPosition_A</th>\n",
       "      <th>filename</th>\n",
       "      <th>IID</th>\n",
       "      <th>FID</th>\n",
       "    </tr>\n",
       "  </thead>\n",
       "  <tbody>\n",
       "    <tr>\n",
       "      <th>0</th>\n",
       "      <td>IMMUNEPD_000001</td>\n",
       "      <td>IMMUNEPD_000001_s1</td>\n",
       "      <td>m1</td>\n",
       "      <td>PD</td>\n",
       "      <td>2</td>\n",
       "      <td>PD</td>\n",
       "      <td>1</td>\n",
       "      <td>61.0</td>\n",
       "      <td>NaN</td>\n",
       "      <td>61.0</td>\n",
       "      <td>...</td>\n",
       "      <td>IMMUNEPD</td>\n",
       "      <td>0</td>\n",
       "      <td>NaN</td>\n",
       "      <td>EUR</td>\n",
       "      <td>NaN</td>\n",
       "      <td>206966380021</td>\n",
       "      <td>R01C01</td>\n",
       "      <td>206966380021_R01C01</td>\n",
       "      <td>206966380021_R01C01</td>\n",
       "      <td>0</td>\n",
       "    </tr>\n",
       "    <tr>\n",
       "      <th>1</th>\n",
       "      <td>IMMUNEPD_000002</td>\n",
       "      <td>IMMUNEPD_000002_s1</td>\n",
       "      <td>m1</td>\n",
       "      <td>PD</td>\n",
       "      <td>2</td>\n",
       "      <td>PD</td>\n",
       "      <td>1</td>\n",
       "      <td>66.0</td>\n",
       "      <td>NaN</td>\n",
       "      <td>66.0</td>\n",
       "      <td>...</td>\n",
       "      <td>IMMUNEPD</td>\n",
       "      <td>0</td>\n",
       "      <td>NaN</td>\n",
       "      <td>EUR</td>\n",
       "      <td>NaN</td>\n",
       "      <td>206966380021</td>\n",
       "      <td>R02C01</td>\n",
       "      <td>206966380021_R02C01</td>\n",
       "      <td>206966380021_R02C01</td>\n",
       "      <td>0</td>\n",
       "    </tr>\n",
       "    <tr>\n",
       "      <th>2</th>\n",
       "      <td>IMMUNEPD_000003</td>\n",
       "      <td>IMMUNEPD_000003_s1</td>\n",
       "      <td>m1</td>\n",
       "      <td>Control</td>\n",
       "      <td>1</td>\n",
       "      <td>Control</td>\n",
       "      <td>2</td>\n",
       "      <td>55.0</td>\n",
       "      <td>NaN</td>\n",
       "      <td>NaN</td>\n",
       "      <td>...</td>\n",
       "      <td>IMMUNEPD</td>\n",
       "      <td>0</td>\n",
       "      <td>NaN</td>\n",
       "      <td>EUR</td>\n",
       "      <td>NaN</td>\n",
       "      <td>206966380021</td>\n",
       "      <td>R03C01</td>\n",
       "      <td>206966380021_R03C01</td>\n",
       "      <td>206966380021_R03C01</td>\n",
       "      <td>0</td>\n",
       "    </tr>\n",
       "    <tr>\n",
       "      <th>3</th>\n",
       "      <td>IMMUNEPD_000004</td>\n",
       "      <td>IMMUNEPD_000004_s1</td>\n",
       "      <td>m1</td>\n",
       "      <td>Control</td>\n",
       "      <td>1</td>\n",
       "      <td>Control</td>\n",
       "      <td>1</td>\n",
       "      <td>50.0</td>\n",
       "      <td>NaN</td>\n",
       "      <td>NaN</td>\n",
       "      <td>...</td>\n",
       "      <td>IMMUNEPD</td>\n",
       "      <td>0</td>\n",
       "      <td>NaN</td>\n",
       "      <td>EUR</td>\n",
       "      <td>NaN</td>\n",
       "      <td>206966380021</td>\n",
       "      <td>R04C01</td>\n",
       "      <td>206966380021_R04C01</td>\n",
       "      <td>206966380021_R04C01</td>\n",
       "      <td>0</td>\n",
       "    </tr>\n",
       "    <tr>\n",
       "      <th>4</th>\n",
       "      <td>IMMUNEPD_000005</td>\n",
       "      <td>IMMUNEPD_000005_s1</td>\n",
       "      <td>m1</td>\n",
       "      <td>Control</td>\n",
       "      <td>1</td>\n",
       "      <td>Control</td>\n",
       "      <td>2</td>\n",
       "      <td>74.0</td>\n",
       "      <td>NaN</td>\n",
       "      <td>NaN</td>\n",
       "      <td>...</td>\n",
       "      <td>IMMUNEPD</td>\n",
       "      <td>0</td>\n",
       "      <td>NaN</td>\n",
       "      <td>EUR</td>\n",
       "      <td>NaN</td>\n",
       "      <td>206966380021</td>\n",
       "      <td>R05C01</td>\n",
       "      <td>206966380021_R05C01</td>\n",
       "      <td>206966380021_R05C01</td>\n",
       "      <td>0</td>\n",
       "    </tr>\n",
       "    <tr>\n",
       "      <th>...</th>\n",
       "      <td>...</td>\n",
       "      <td>...</td>\n",
       "      <td>...</td>\n",
       "      <td>...</td>\n",
       "      <td>...</td>\n",
       "      <td>...</td>\n",
       "      <td>...</td>\n",
       "      <td>...</td>\n",
       "      <td>...</td>\n",
       "      <td>...</td>\n",
       "      <td>...</td>\n",
       "      <td>...</td>\n",
       "      <td>...</td>\n",
       "      <td>...</td>\n",
       "      <td>...</td>\n",
       "      <td>...</td>\n",
       "      <td>...</td>\n",
       "      <td>...</td>\n",
       "      <td>...</td>\n",
       "      <td>...</td>\n",
       "      <td>...</td>\n",
       "    </tr>\n",
       "    <tr>\n",
       "      <th>26723</th>\n",
       "      <td>MDGAP-EBB_000149</td>\n",
       "      <td>MDGAP-EBB_000149_s1</td>\n",
       "      <td>m4</td>\n",
       "      <td>Control</td>\n",
       "      <td>1</td>\n",
       "      <td>Control</td>\n",
       "      <td>1</td>\n",
       "      <td>NaN</td>\n",
       "      <td>NaN</td>\n",
       "      <td>NaN</td>\n",
       "      <td>...</td>\n",
       "      <td>MDGAP-EBB</td>\n",
       "      <td>1</td>\n",
       "      <td>callrate_prune</td>\n",
       "      <td>NaN</td>\n",
       "      <td>NaN</td>\n",
       "      <td>206412050061</td>\n",
       "      <td>R04C01</td>\n",
       "      <td>206412050061_R04C01</td>\n",
       "      <td>206412050061_R04C01</td>\n",
       "      <td>0</td>\n",
       "    </tr>\n",
       "    <tr>\n",
       "      <th>26724</th>\n",
       "      <td>MDGAP-EBB_000150</td>\n",
       "      <td>MDGAP-EBB_000150_s1</td>\n",
       "      <td>m4</td>\n",
       "      <td>Control</td>\n",
       "      <td>1</td>\n",
       "      <td>Control</td>\n",
       "      <td>2</td>\n",
       "      <td>NaN</td>\n",
       "      <td>NaN</td>\n",
       "      <td>NaN</td>\n",
       "      <td>...</td>\n",
       "      <td>MDGAP-EBB</td>\n",
       "      <td>1</td>\n",
       "      <td>callrate_prune</td>\n",
       "      <td>NaN</td>\n",
       "      <td>NaN</td>\n",
       "      <td>206412050061</td>\n",
       "      <td>R05C01</td>\n",
       "      <td>206412050061_R05C01</td>\n",
       "      <td>206412050061_R05C01</td>\n",
       "      <td>0</td>\n",
       "    </tr>\n",
       "    <tr>\n",
       "      <th>26725</th>\n",
       "      <td>MDGAP-EBB_000151</td>\n",
       "      <td>MDGAP-EBB_000151_s1</td>\n",
       "      <td>m4</td>\n",
       "      <td>Control</td>\n",
       "      <td>1</td>\n",
       "      <td>Control</td>\n",
       "      <td>1</td>\n",
       "      <td>NaN</td>\n",
       "      <td>NaN</td>\n",
       "      <td>NaN</td>\n",
       "      <td>...</td>\n",
       "      <td>MDGAP-EBB</td>\n",
       "      <td>1</td>\n",
       "      <td>callrate_prune</td>\n",
       "      <td>NaN</td>\n",
       "      <td>NaN</td>\n",
       "      <td>206412050061</td>\n",
       "      <td>R06C01</td>\n",
       "      <td>206412050061_R06C01</td>\n",
       "      <td>206412050061_R06C01</td>\n",
       "      <td>0</td>\n",
       "    </tr>\n",
       "    <tr>\n",
       "      <th>26726</th>\n",
       "      <td>MDGAP-EBB_000152</td>\n",
       "      <td>MDGAP-EBB_000152_s1</td>\n",
       "      <td>m4</td>\n",
       "      <td>Control</td>\n",
       "      <td>1</td>\n",
       "      <td>Control</td>\n",
       "      <td>2</td>\n",
       "      <td>NaN</td>\n",
       "      <td>NaN</td>\n",
       "      <td>NaN</td>\n",
       "      <td>...</td>\n",
       "      <td>MDGAP-EBB</td>\n",
       "      <td>1</td>\n",
       "      <td>callrate_prune</td>\n",
       "      <td>NaN</td>\n",
       "      <td>NaN</td>\n",
       "      <td>206412050061</td>\n",
       "      <td>R07C01</td>\n",
       "      <td>206412050061_R07C01</td>\n",
       "      <td>206412050061_R07C01</td>\n",
       "      <td>0</td>\n",
       "    </tr>\n",
       "    <tr>\n",
       "      <th>26727</th>\n",
       "      <td>MDGAP-EBB_000153</td>\n",
       "      <td>MDGAP-EBB_000153_s1</td>\n",
       "      <td>m4</td>\n",
       "      <td>Control</td>\n",
       "      <td>1</td>\n",
       "      <td>Control</td>\n",
       "      <td>1</td>\n",
       "      <td>NaN</td>\n",
       "      <td>NaN</td>\n",
       "      <td>NaN</td>\n",
       "      <td>...</td>\n",
       "      <td>MDGAP-EBB</td>\n",
       "      <td>1</td>\n",
       "      <td>callrate_prune</td>\n",
       "      <td>NaN</td>\n",
       "      <td>NaN</td>\n",
       "      <td>206412050061</td>\n",
       "      <td>R08C01</td>\n",
       "      <td>206412050061_R08C01</td>\n",
       "      <td>206412050061_R08C01</td>\n",
       "      <td>0</td>\n",
       "    </tr>\n",
       "  </tbody>\n",
       "</table>\n",
       "<p>26728 rows × 24 columns</p>\n",
       "</div>"
      ],
      "text/plain": [
       "                  GP2ID          GP2sampleID manifest_id phenotype  \\\n",
       "0       IMMUNEPD_000001   IMMUNEPD_000001_s1          m1        PD   \n",
       "1       IMMUNEPD_000002   IMMUNEPD_000002_s1          m1        PD   \n",
       "2       IMMUNEPD_000003   IMMUNEPD_000003_s1          m1   Control   \n",
       "3       IMMUNEPD_000004   IMMUNEPD_000004_s1          m1   Control   \n",
       "4       IMMUNEPD_000005   IMMUNEPD_000005_s1          m1   Control   \n",
       "...                 ...                  ...         ...       ...   \n",
       "26723  MDGAP-EBB_000149  MDGAP-EBB_000149_s1          m4   Control   \n",
       "26724  MDGAP-EBB_000150  MDGAP-EBB_000150_s1          m4   Control   \n",
       "26725  MDGAP-EBB_000151  MDGAP-EBB_000151_s1          m4   Control   \n",
       "26726  MDGAP-EBB_000152  MDGAP-EBB_000152_s1          m4   Control   \n",
       "26727  MDGAP-EBB_000153  MDGAP-EBB_000153_s1          m4   Control   \n",
       "\n",
       "       pheno_for_qc other_pheno  sex_for_qc   age  age_of_onset  \\\n",
       "0                 2          PD           1  61.0           NaN   \n",
       "1                 2          PD           1  66.0           NaN   \n",
       "2                 1     Control           2  55.0           NaN   \n",
       "3                 1     Control           1  50.0           NaN   \n",
       "4                 1     Control           2  74.0           NaN   \n",
       "...             ...         ...         ...   ...           ...   \n",
       "26723             1     Control           1   NaN           NaN   \n",
       "26724             1     Control           2   NaN           NaN   \n",
       "26725             1     Control           1   NaN           NaN   \n",
       "26726             1     Control           2   NaN           NaN   \n",
       "26727             1     Control           1   NaN           NaN   \n",
       "\n",
       "       age_at_diagnosis  ...      study pruned   pruned_reason label related  \\\n",
       "0                  61.0  ...   IMMUNEPD      0             NaN   EUR     NaN   \n",
       "1                  66.0  ...   IMMUNEPD      0             NaN   EUR     NaN   \n",
       "2                   NaN  ...   IMMUNEPD      0             NaN   EUR     NaN   \n",
       "3                   NaN  ...   IMMUNEPD      0             NaN   EUR     NaN   \n",
       "4                   NaN  ...   IMMUNEPD      0             NaN   EUR     NaN   \n",
       "...                 ...  ...        ...    ...             ...   ...     ...   \n",
       "26723               NaN  ...  MDGAP-EBB      1  callrate_prune   NaN     NaN   \n",
       "26724               NaN  ...  MDGAP-EBB      1  callrate_prune   NaN     NaN   \n",
       "26725               NaN  ...  MDGAP-EBB      1  callrate_prune   NaN     NaN   \n",
       "26726               NaN  ...  MDGAP-EBB      1  callrate_prune   NaN     NaN   \n",
       "26727               NaN  ...  MDGAP-EBB      1  callrate_prune   NaN     NaN   \n",
       "\n",
       "       SentrixBarcode_A SentrixPosition_A             filename  \\\n",
       "0          206966380021            R01C01  206966380021_R01C01   \n",
       "1          206966380021            R02C01  206966380021_R02C01   \n",
       "2          206966380021            R03C01  206966380021_R03C01   \n",
       "3          206966380021            R04C01  206966380021_R04C01   \n",
       "4          206966380021            R05C01  206966380021_R05C01   \n",
       "...                 ...               ...                  ...   \n",
       "26723      206412050061            R04C01  206412050061_R04C01   \n",
       "26724      206412050061            R05C01  206412050061_R05C01   \n",
       "26725      206412050061            R06C01  206412050061_R06C01   \n",
       "26726      206412050061            R07C01  206412050061_R07C01   \n",
       "26727      206412050061            R08C01  206412050061_R08C01   \n",
       "\n",
       "                       IID  FID  \n",
       "0      206966380021_R01C01    0  \n",
       "1      206966380021_R02C01    0  \n",
       "2      206966380021_R03C01    0  \n",
       "3      206966380021_R04C01    0  \n",
       "4      206966380021_R05C01    0  \n",
       "...                    ...  ...  \n",
       "26723  206412050061_R04C01    0  \n",
       "26724  206412050061_R05C01    0  \n",
       "26725  206412050061_R06C01    0  \n",
       "26726  206412050061_R07C01    0  \n",
       "26727  206412050061_R08C01    0  \n",
       "\n",
       "[26728 rows x 24 columns]"
      ]
     },
     "execution_count": 33,
     "metadata": {},
     "output_type": "execute_result"
    }
   ],
   "source": [
    "key"
   ]
  },
  {
   "cell_type": "markdown",
   "id": "d28f024b-c65e-4bac-8791-cd38e80bb825",
   "metadata": {},
   "source": [
    "## split out chromosome 4"
   ]
  },
  {
   "cell_type": "code",
   "execution_count": 5,
   "id": "ca99e097-30e3-4149-ad67-91ac00eafe7d",
   "metadata": {},
   "outputs": [],
   "source": [
    "import dask.dataframe as dd\n",
    "import shutil\n",
    "project_dir = '/data/GP2/projects/2023_06_14_DV_snp_metrics_extract/chr_4_extract'\n",
    "# !mkdir {project_dir}\n",
    "\n",
    "# !ls {snp_metrics_path}/204620380001/snp_metrics_204620380001.parquet/Sample_ID=204620380001_R01C01"
   ]
  },
  {
   "cell_type": "code",
   "execution_count": 38,
   "id": "1aa34a6e-c332-4058-9431-c390b41faca4",
   "metadata": {
    "tags": []
   },
   "outputs": [],
   "source": [
    "with open(f'{swarm_scripts_dir}/rewrite_parquets.swarm', 'w') as f:\n",
    "    for code in key.SentrixBarcode_A:\n",
    "\n",
    "        sample_parquet = f'{snp_metrics_path}/{code}/snp_metrics_{code}.parquet'\n",
    "        sample_parquet_out = f'{snp_metrics_path}/{code}/snp_metrics_{code}'\n",
    "\n",
    "        if os.path.isdir(sample_parquet):\n",
    "            cmd = f'python3 rewrite_parquets.py {sample_parquet} {sample_parquet_out}'\n",
    "            \n",
    "            f.write(f'{cmd}\\n')\n",
    "f.close()"
   ]
  },
  {
   "cell_type": "code",
   "execution_count": 51,
   "id": "29eea00d-c7f5-4f55-8a84-8e8a86becf7e",
   "metadata": {
    "tags": []
   },
   "outputs": [
    {
     "name": "stdout",
     "output_type": "stream",
     "text": [
      "2932446\n"
     ]
    }
   ],
   "source": [
    "!swarm -f {swarm_scripts_dir}/rewrite_parquets.swarm -g 8 -t 8 --time=00:15:00 --logdir {swarm_scripts_dir}/logs --gres=lscratch:20 --partition=norm"
   ]
  },
  {
   "cell_type": "code",
   "execution_count": 95,
   "id": "87e4b6d4-bc35-47e1-96eb-857c2b46d3fe",
   "metadata": {},
   "outputs": [],
   "source": [
    "\n",
    "\n",
    "labels = list(key.label.unique())\n",
    "labels.remove(np.nan)\n",
    "for label in key.label.unique():\n",
    "    # os.makedirs(f'{project_dir}/{label}', exist_ok=True)\n",
    "    label_key = key.loc[key.label==label].copy()\n",
    "    for sample in label_key.filename:\n",
    "        code = sample.split('_')[0]\n",
    "        parquet = f'{snp_metrics_path}/{code}/snp_metrics_{code}/Sample_ID={sample}/chromosome=4'\n",
    "        if os.path.isdir(parquet):\n",
    "            shutil.copytree(parquet, f'{project_dir}/{label}/Sample_ID={sample}/chromosome=4')\n",
    "            "
   ]
  },
  {
   "cell_type": "code",
   "execution_count": 6,
   "id": "7d6259eb-bce0-42c5-8089-9255c859ac9f",
   "metadata": {},
   "outputs": [],
   "source": [
    "with open(f'{swarm_scripts_dir}/cp_chr4_gcp.swarm', 'w') as f:\n",
    "    for label in key.label.unique():\n",
    "    # os.makedirs(f'{project_dir}/{label}', exist_ok=True)\n",
    "        label_key = key.loc[key.label==label].copy()\n",
    "        for sample in label_key.filename:\n",
    "            code = sample.split('_')[0]\n",
    "            parquet = f'{project_dir}/{label}/Sample_ID={sample}/chromosome=4'\n",
    "            if os.path.isdir(parquet):\n",
    "                cmd = f'cd {project_dir}/{label}; gsutil -m cp -r Sample_ID={sample}/ gs://snp_metrics_sample/{label}/'\n",
    "                \n",
    "                f.write(f'{cmd}\\n')\n",
    "f.close()"
   ]
  },
  {
   "cell_type": "code",
   "execution_count": 10,
   "id": "d2dcbb7c-df7e-40cb-9356-6cba05b4b022",
   "metadata": {},
   "outputs": [
    {
     "name": "stdout",
     "output_type": "stream",
     "text": [
      "3119163\n"
     ]
    }
   ],
   "source": [
    "!swarm -f {swarm_scripts_dir}/cp_chr4_gcp.swarm -g 8 -t 8 --time=00:15:00 --logdir {swarm_scripts_dir}/logs --module google-cloud-sdk --gres=lscratch:20 --partition=norm"
   ]
  },
  {
   "cell_type": "code",
   "execution_count": 9,
   "id": "42b608b2-9423-42e1-84ac-b438526666a6",
   "metadata": {},
   "outputs": [
    {
     "name": "stdout",
     "output_type": "stream",
     "text": [
      "cd /data/GP2/projects/2023_06_14_DV_snp_metrics_extract/chr_4_extract/EUR; gsutil -m cp -r Sample_ID=206966380021_R01C01/ gs://snp_metrics_sample/EUR/\n",
      "cd /data/GP2/projects/2023_06_14_DV_snp_metrics_extract/chr_4_extract/EUR; gsutil -m cp -r Sample_ID=206966380021_R02C01/ gs://snp_metrics_sample/EUR/\n",
      "cd /data/GP2/projects/2023_06_14_DV_snp_metrics_extract/chr_4_extract/EUR; gsutil -m cp -r Sample_ID=206966380021_R03C01/ gs://snp_metrics_sample/EUR/\n",
      "cd /data/GP2/projects/2023_06_14_DV_snp_metrics_extract/chr_4_extract/EUR; gsutil -m cp -r Sample_ID=206966380021_R04C01/ gs://snp_metrics_sample/EUR/\n",
      "cd /data/GP2/projects/2023_06_14_DV_snp_metrics_extract/chr_4_extract/EUR; gsutil -m cp -r Sample_ID=206966380021_R05C01/ gs://snp_metrics_sample/EUR/\n",
      "cd /data/GP2/projects/2023_06_14_DV_snp_metrics_extract/chr_4_extract/EUR; gsutil -m cp -r Sample_ID=206966380021_R06C01/ gs://snp_metrics_sample/EUR/\n",
      "cd /data/GP2/projects/2023_06_14_DV_snp_metrics_extract/chr_4_extract/EUR; gsutil -m cp -r Sample_ID=206966380021_R07C01/ gs://snp_metrics_sample/EUR/\n",
      "cd /data/GP2/projects/2023_06_14_DV_snp_metrics_extract/chr_4_extract/EUR; gsutil -m cp -r Sample_ID=206966380021_R08C01/ gs://snp_metrics_sample/EUR/\n",
      "cd /data/GP2/projects/2023_06_14_DV_snp_metrics_extract/chr_4_extract/EUR; gsutil -m cp -r Sample_ID=206978580059_R01C01/ gs://snp_metrics_sample/EUR/\n",
      "cd /data/GP2/projects/2023_06_14_DV_snp_metrics_extract/chr_4_extract/EUR; gsutil -m cp -r Sample_ID=206978580059_R02C01/ gs://snp_metrics_sample/EUR/\n"
     ]
    }
   ],
   "source": [
    "# !cat {swarm_scripts_dir}/cp_chr4_gcp.swarm | wc -l\n",
    "!head {swarm_scripts_dir}/cp_chr4_gcp.swarm"
   ]
  },
  {
   "cell_type": "code",
   "execution_count": 84,
   "id": "8b2ab684-9d0f-4b65-a022-7af8d37d63f2",
   "metadata": {},
   "outputs": [
    {
     "name": "stdout",
     "output_type": "stream",
     "text": [
      "total 6.9M\n",
      "-rw-r----- 1 vitaled2 vitaled2 3.7M Jun 14 14:32 part.97.parquet\n",
      "-rw-r----- 1 vitaled2 vitaled2 3.1M Jun 14 14:32 part.98.parquet\n"
     ]
    }
   ],
   "source": [
    "!ls -lh /data/GP2/projects/2023_06_14_DV_snp_metrics_extract/chr_4_extract/EUR/Sample_ID=206978580059_R05C01/chromosome=4"
   ]
  },
  {
   "cell_type": "code",
   "execution_count": 120,
   "id": "be150131-cdef-4809-83b1-db106bccb81a",
   "metadata": {},
   "outputs": [
    {
     "name": "stdout",
     "output_type": "stream",
     "text": [
      "[-] Unloading python 3.8  ... \n",
      "[+] Loading python 3.7  ... \n",
      "[+] Loading google-cloud-sdk  397.0.0 \n",
      "\n",
      "The following have been reloaded with a version change:\n",
      "  1) python/3.8 => python/3.7\n",
      "\n",
      "Copying file:///data/GP2/clinical/master_key/GP2_master_key_FINAL_release5_n26728.txt [Content-Type=text/plain]...\n",
      "- [1 files][  3.5 MiB/  3.5 MiB]                                                \n",
      "Operation completed over 1 objects/3.5 MiB.                                      \n"
     ]
    }
   ],
   "source": [
    "!module load google-cloud-sdk; gsutil cp {key_file} gs://snp_metrics_sample/"
   ]
  },
  {
   "cell_type": "code",
   "execution_count": null,
   "id": "0d483ab1-ecff-4cf4-b425-d6db90705f85",
   "metadata": {},
   "outputs": [],
   "source": []
  },
  {
   "cell_type": "code",
   "execution_count": null,
   "id": "11e717e1-44c5-4317-be76-a747300c08f0",
   "metadata": {},
   "outputs": [],
   "source": []
  },
  {
   "cell_type": "code",
   "execution_count": null,
   "id": "729bc896-47f2-47e2-b3aa-e183a47590b7",
   "metadata": {},
   "outputs": [],
   "source": [
    "\n"
   ]
  }
 ],
 "metadata": {
  "kernelspec": {
   "display_name": "python/3.8",
   "language": "python",
   "name": "py3.8"
  },
  "language_info": {
   "codemirror_mode": {
    "name": "ipython",
    "version": 3
   },
   "file_extension": ".py",
   "mimetype": "text/x-python",
   "name": "python",
   "nbconvert_exporter": "python",
   "pygments_lexer": "ipython3",
   "version": "3.8.15"
  },
  "vscode": {
   "interpreter": {
    "hash": "aee8b7b246df8f9039afb4144a1f6fd8d2ca17a180786b69acc140d282b71a49"
   }
  }
 },
 "nbformat": 4,
 "nbformat_minor": 5
}
